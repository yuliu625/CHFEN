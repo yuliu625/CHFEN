{
 "cells": [
  {
   "cell_type": "code",
   "id": "initial_id",
   "metadata": {
    "collapsed": true,
    "ExecuteTime": {
     "end_time": "2024-10-31T11:48:21.625629Z",
     "start_time": "2024-10-31T11:48:21.614827Z"
    }
   },
   "source": [
    "from frames import Frames\n",
    "from audio import Audio\n",
    "from label_map import label_map\n",
    "\n",
    "import torch\n",
    "# import torchvision.transforms as transforms\n",
    "from torch.utils.data import Dataset\n",
    "\n",
    "import pandas as pd\n",
    "from omegaconf import OmegaConf\n",
    "from pathlib import Path\n",
    "\n",
    "\n",
    "class OriginalMultimodalDataset(Dataset):\n",
    "    \"\"\"\n",
    "    加载原始的多模态数据。\n",
    "    \"\"\"\n",
    "    def __init__(self, is_need_audio=True, path_config_path_str='../configs/path.yaml'):\n",
    "        # 导入配置。\n",
    "        self.path_config = OmegaConf.load(path_config_path_str)\n",
    "\n",
    "        # 加载视频、字幕、音频的路径。\n",
    "        self.base_dir = Path(self.path_config['datasets']['base_dir'])\n",
    "        self.base_video_dir = Path(self.path_config['datasets']['base_video_dir'])\n",
    "        self.base_subtitle_dir = Path(self.path_config['datasets']['base_subtitle_dir'])\n",
    "        self.base_audio_dir = Path(self.path_config['datasets']['base_audio_dir'])\n",
    "\n",
    "        # 导入主控制文件。\n",
    "        self.is_need_audio = is_need_audio\n",
    "        self.all_data = pd.read_json(self.path_config['datasets']['base_all_data'], dtype={'video_id': str})\n",
    "\n",
    "    def __len__(self):\n",
    "        return len(self.all_data)\n",
    "\n",
    "    def __getitem__(self, idx):\n",
    "        frames_data = self.get_frames_data(self.all_data.loc[idx, 'video_id'])\n",
    "        result = {\n",
    "            'title': self.all_data.loc[idx, 'title'],\n",
    "            'emotion_name': self.all_data.loc[idx, 'emotion'],\n",
    "            'emotion': label_map[self.all_data.loc[idx, 'emotion']],\n",
    "            'scenes': frames_data['images'],\n",
    "            'subtitles': frames_data['subtitles'],\n",
    "        }\n",
    "        if self.is_need_audio:\n",
    "            audio_data = self.get_audio_data(self.all_data.loc[idx, 'video_id'])\n",
    "            result = result | audio_data\n",
    "        return result\n",
    "\n",
    "    def get_frames_data(self, video_id):\n",
    "        frames = Frames(video_id)\n",
    "        video_info = frames.get_video_info()\n",
    "        frames_image = frames.get_frame_image_by_time()\n",
    "        frames_subtitle = frames.get_frame_subtitle_by_time()\n",
    "        return {\n",
    "            'images': frames_image,\n",
    "            'subtitles': frames_subtitle\n",
    "        }\n",
    "\n",
    "    def get_audio_data(self, video_id):\n",
    "        audio = Audio(video_id)\n",
    "        waveform, sample_rate = audio.load_audio()\n",
    "        return {\n",
    "            'audio_waveform': waveform,\n",
    "            'audio_sample_rate': sample_rate\n",
    "        }\n"
   ],
   "execution_count": 22,
   "outputs": []
  },
  {
   "metadata": {
    "ExecuteTime": {
     "end_time": "2024-10-31T11:48:21.646456Z",
     "start_time": "2024-10-31T11:48:21.625629Z"
    }
   },
   "cell_type": "code",
   "source": "dataset = OriginalMultimodalDataset()",
   "id": "58eac1b4521da885",
   "execution_count": 23,
   "outputs": []
  },
  {
   "metadata": {
    "ExecuteTime": {
     "end_time": "2024-10-31T11:48:23.372590Z",
     "start_time": "2024-10-31T11:48:21.648087Z"
    }
   },
   "cell_type": "code",
   "source": "dataset[2]",
   "id": "d67a72bb28514b7",
   "execution_count": 24,
   "outputs": []
  },
  {
   "metadata": {
    "ExecuteTime": {
     "end_time": "2024-10-31T11:48:25.154207Z",
     "start_time": "2024-10-31T11:48:23.373078Z"
    }
   },
   "cell_type": "code",
   "source": "scenes = dataset[2]['scenes']",
   "id": "17a9596d01fcc96e",
   "execution_count": 25,
   "outputs": []
  },
  {
   "metadata": {
    "ExecuteTime": {
     "end_time": "2024-10-31T11:48:25.159158Z",
     "start_time": "2024-10-31T11:48:25.155309Z"
    }
   },
   "cell_type": "code",
   "source": "type(scenes)",
   "id": "826c30a0d313d76f",
   "execution_count": 26,
   "outputs": []
  },
  {
   "metadata": {
    "ExecuteTime": {
     "end_time": "2024-10-31T11:48:25.170038Z",
     "start_time": "2024-10-31T11:48:25.160274Z"
    }
   },
   "cell_type": "code",
   "source": "len(scenes)",
   "id": "67983b941937afcf",
   "execution_count": 27,
   "outputs": []
  },
  {
   "metadata": {
    "ExecuteTime": {
     "end_time": "2024-10-31T11:48:26.429100Z",
     "start_time": "2024-10-31T11:48:25.170038Z"
    }
   },
   "cell_type": "code",
   "source": "len(dataset[0]['scenes'])",
   "id": "b833fd04251e42e6",
   "execution_count": 28,
   "outputs": []
  },
  {
   "metadata": {
    "ExecuteTime": {
     "end_time": "2024-10-31T11:48:26.434710Z",
     "start_time": "2024-10-31T11:48:26.429100Z"
    }
   },
   "cell_type": "code",
   "source": "type(scenes[0])",
   "id": "e48c493cd5ca2146",
   "execution_count": 29,
   "outputs": []
  },
  {
   "metadata": {
    "ExecuteTime": {
     "end_time": "2024-10-31T11:48:26.440447Z",
     "start_time": "2024-10-31T11:48:26.435717Z"
    }
   },
   "cell_type": "code",
   "source": "scenes[0].shape",
   "id": "1b40a2b586c1fb84",
   "execution_count": 30,
   "outputs": []
  },
  {
   "metadata": {
    "ExecuteTime": {
     "end_time": "2024-10-31T11:48:26.446542Z",
     "start_time": "2024-10-31T11:48:26.440447Z"
    }
   },
   "cell_type": "code",
   "source": "scenes[0]",
   "id": "afa05143c68b480e",
   "execution_count": 31,
   "outputs": []
  },
  {
   "metadata": {
    "ExecuteTime": {
     "end_time": "2024-10-31T11:48:26.451294Z",
     "start_time": "2024-10-31T11:48:26.446542Z"
    }
   },
   "cell_type": "code",
   "source": "# from embedding import Captioner",
   "id": "8cc910678201ac1b",
   "execution_count": 32,
   "outputs": []
  },
  {
   "metadata": {
    "ExecuteTime": {
     "end_time": "2024-10-31T11:48:26.457368Z",
     "start_time": "2024-10-31T11:48:26.452380Z"
    }
   },
   "cell_type": "code",
   "source": "# captioner = Captioner()",
   "id": "5664b8c728c7ac8f",
   "execution_count": 33,
   "outputs": []
  },
  {
   "metadata": {
    "ExecuteTime": {
     "end_time": "2024-10-31T11:48:26.463478Z",
     "start_time": "2024-10-31T11:48:26.457368Z"
    }
   },
   "cell_type": "code",
   "source": "# caption = captioner.generate(scene[0])",
   "id": "8bcc5d84038c5ad4",
   "execution_count": 34,
   "outputs": []
  },
  {
   "metadata": {
    "ExecuteTime": {
     "end_time": "2024-10-31T11:48:26.470107Z",
     "start_time": "2024-10-31T11:48:26.464739Z"
    }
   },
   "cell_type": "code",
   "source": "# caption",
   "id": "9ed81e78f4e4aad3",
   "execution_count": 35,
   "outputs": []
  },
  {
   "metadata": {
    "ExecuteTime": {
     "end_time": "2024-10-31T11:48:26.475814Z",
     "start_time": "2024-10-31T11:48:26.470107Z"
    }
   },
   "cell_type": "code",
   "source": "from embedding import FaceExtractor",
   "id": "d23fec01d5d09198",
   "execution_count": 36,
   "outputs": []
  },
  {
   "metadata": {
    "ExecuteTime": {
     "end_time": "2024-10-31T11:48:26.490429Z",
     "start_time": "2024-10-31T11:48:26.475814Z"
    }
   },
   "cell_type": "code",
   "source": "face_extractor = FaceExtractor()",
   "id": "6ba0215eb3b209e0",
   "execution_count": 37,
   "outputs": []
  },
  {
   "metadata": {
    "ExecuteTime": {
     "end_time": "2024-10-31T11:48:26.570616Z",
     "start_time": "2024-10-31T11:48:26.490429Z"
    }
   },
   "cell_type": "code",
   "source": "faces = face_extractor.extract_face(scenes[0])",
   "id": "16b7fc745f505fd4",
   "execution_count": 38,
   "outputs": []
  },
  {
   "metadata": {
    "ExecuteTime": {
     "end_time": "2024-10-31T11:48:26.576721Z",
     "start_time": "2024-10-31T11:48:26.572560Z"
    }
   },
   "cell_type": "code",
   "source": "faces[0]",
   "id": "238b0e8b4074b1f1",
   "execution_count": 39,
   "outputs": []
  },
  {
   "metadata": {
    "ExecuteTime": {
     "end_time": "2024-10-31T11:48:26.582983Z",
     "start_time": "2024-10-31T11:48:26.576721Z"
    }
   },
   "cell_type": "code",
   "source": "len(faces)",
   "id": "ebffee3226a61d7a",
   "execution_count": 40,
   "outputs": []
  },
  {
   "metadata": {
    "ExecuteTime": {
     "end_time": "2024-10-31T13:11:45.922385Z",
     "start_time": "2024-10-31T13:11:45.844675Z"
    }
   },
   "cell_type": "code",
   "source": "faces[0][0]",
   "id": "756ad9532bfddb1d",
   "execution_count": 55,
   "outputs": []
  },
  {
   "metadata": {
    "ExecuteTime": {
     "end_time": "2024-10-31T11:48:26.593101Z",
     "start_time": "2024-10-31T11:48:26.585740Z"
    }
   },
   "cell_type": "code",
   "source": "faces[0][0].size",
   "id": "9087f39da770cfdc",
   "execution_count": 41,
   "outputs": []
  },
  {
   "metadata": {
    "ExecuteTime": {
     "end_time": "2024-10-31T11:48:26.598337Z",
     "start_time": "2024-10-31T11:48:26.594104Z"
    }
   },
   "cell_type": "code",
   "source": "from embedding import ImageEncoder",
   "id": "340dd711ec727c93",
   "execution_count": 42,
   "outputs": []
  },
  {
   "metadata": {
    "ExecuteTime": {
     "end_time": "2024-10-31T11:48:37.837738Z",
     "start_time": "2024-10-31T11:48:36.707133Z"
    }
   },
   "cell_type": "code",
   "source": "image_encoder = ImageEncoder()",
   "id": "b1d8c7d9bd13cc3a",
   "execution_count": 43,
   "outputs": []
  },
  {
   "metadata": {
    "ExecuteTime": {
     "end_time": "2024-10-31T11:52:43.239658Z",
     "start_time": "2024-10-31T11:52:42.867565Z"
    }
   },
   "cell_type": "code",
   "source": "image_embedding = image_encoder.encode(scenes[0])",
   "id": "ce808d0c90f54e91",
   "execution_count": 44,
   "outputs": []
  },
  {
   "metadata": {
    "ExecuteTime": {
     "end_time": "2024-10-31T11:52:48.504571Z",
     "start_time": "2024-10-31T11:52:48.492344Z"
    }
   },
   "cell_type": "code",
   "source": "image_embedding",
   "id": "ee1385080eacd27",
   "execution_count": 45,
   "outputs": []
  },
  {
   "metadata": {
    "ExecuteTime": {
     "end_time": "2024-10-31T12:09:47.128245Z",
     "start_time": "2024-10-31T12:09:47.114650Z"
    }
   },
   "cell_type": "code",
   "source": "vars(image_embedding)",
   "id": "f3f3b838d112c615",
   "execution_count": 49,
   "outputs": []
  },
  {
   "metadata": {
    "ExecuteTime": {
     "end_time": "2024-10-31T13:09:03.470188Z",
     "start_time": "2024-10-31T13:09:03.464593Z"
    }
   },
   "cell_type": "code",
   "source": "image_embedding.last_hidden_state.shape",
   "id": "3b25899d6888c292",
   "execution_count": 51,
   "outputs": []
  },
  {
   "metadata": {
    "ExecuteTime": {
     "end_time": "2024-10-31T13:09:36.655594Z",
     "start_time": "2024-10-31T13:09:36.649309Z"
    }
   },
   "cell_type": "code",
   "source": "image_embedding.pooler_output.shape",
   "id": "586273c813b8c29a",
   "execution_count": 52,
   "outputs": []
  },
  {
   "metadata": {
    "ExecuteTime": {
     "end_time": "2024-10-31T12:02:52.592052Z",
     "start_time": "2024-10-31T12:02:52.299945Z"
    }
   },
   "cell_type": "code",
   "source": "face_embedding = image_encoder.encode(faces[0][0])",
   "id": "a0488d3ba61ca10c",
   "execution_count": 46,
   "outputs": []
  },
  {
   "metadata": {
    "ExecuteTime": {
     "end_time": "2024-10-31T12:02:57.678209Z",
     "start_time": "2024-10-31T12:02:57.667986Z"
    }
   },
   "cell_type": "code",
   "source": "face_embedding",
   "id": "ce6f3b919fcdcfa2",
   "execution_count": 47,
   "outputs": []
  },
  {
   "metadata": {
    "ExecuteTime": {
     "end_time": "2024-10-31T13:11:14.237358Z",
     "start_time": "2024-10-31T13:11:14.231652Z"
    }
   },
   "cell_type": "code",
   "source": "face_embedding.last_hidden_state.shape",
   "id": "c0e9930d440347a2",
   "execution_count": 53,
   "outputs": []
  },
  {
   "metadata": {
    "ExecuteTime": {
     "end_time": "2024-10-31T13:11:22.222507Z",
     "start_time": "2024-10-31T13:11:22.217723Z"
    }
   },
   "cell_type": "code",
   "source": "face_embedding.pooler_output.shape",
   "id": "72359be5247e611c",
   "execution_count": 54,
   "outputs": []
  }
 ],
 "metadata": {
  "kernelspec": {
   "display_name": "Python 3",
   "language": "python",
   "name": "python3"
  },
  "language_info": {
   "codemirror_mode": {
    "name": "ipython",
    "version": 2
   },
   "file_extension": ".py",
   "mimetype": "text/x-python",
   "name": "python",
   "nbconvert_exporter": "python",
   "pygments_lexer": "ipython2",
   "version": "2.7.6"
  }
 },
 "nbformat": 4,
 "nbformat_minor": 5
}
