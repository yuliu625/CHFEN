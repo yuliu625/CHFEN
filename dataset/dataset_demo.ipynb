{
 "cells": [
  {
   "cell_type": "code",
   "id": "initial_id",
   "metadata": {
    "collapsed": true,
    "ExecuteTime": {
     "end_time": "2024-10-30T07:45:37.227593Z",
     "start_time": "2024-10-30T07:45:32.773490Z"
    }
   },
   "source": [
    "from frames import Frames\n",
    "from audio import Audio\n",
    "from label_map import label_map\n",
    "\n",
    "import torch\n",
    "# import torchvision.transforms as transforms\n",
    "from torch.utils.data import Dataset\n",
    "\n",
    "import pandas as pd\n",
    "from omegaconf import OmegaConf\n",
    "from pathlib import Path\n",
    "\n",
    "\n",
    "class OriginalMultimodalDataset(Dataset):\n",
    "    \"\"\"\n",
    "    加载原始的多模态数据。\n",
    "    \"\"\"\n",
    "    def __init__(self, is_need_audio=True, path_config_path_str='../configs/path.yaml'):\n",
    "        # 导入配置。\n",
    "        self.path_config = OmegaConf.load(path_config_path_str)\n",
    "\n",
    "        # 加载视频、字幕、音频的路径。\n",
    "        self.base_dir = Path(self.path_config['datasets']['base_dir'])\n",
    "        self.base_video_dir = Path(self.path_config['datasets']['base_video_dir'])\n",
    "        self.base_subtitle_dir = Path(self.path_config['datasets']['base_subtitle_dir'])\n",
    "        self.base_audio_dir = Path(self.path_config['datasets']['base_audio_dir'])\n",
    "\n",
    "        # 导入主控制文件。\n",
    "        self.is_need_audio = is_need_audio\n",
    "        self.all_data = pd.read_json(self.path_config['datasets']['base_all_data'], dtype={'video_id': str})\n",
    "\n",
    "    def __len__(self):\n",
    "        return len(self.all_data)\n",
    "\n",
    "    def __getitem__(self, idx):\n",
    "        frames_data = self.get_frames_data(self.all_data.loc[idx, 'video_id'])\n",
    "        result = {\n",
    "            'title': self.all_data.loc[idx, 'title'],\n",
    "            'emotion_name': self.all_data.loc[idx, 'emotion'],\n",
    "            'emotion': label_map[self.all_data.loc[idx, 'emotion']],\n",
    "            'scene': frames_data['images'],\n",
    "            'subtitle': frames_data['subtitles'],\n",
    "        }\n",
    "        if self.is_need_audio:\n",
    "            audio_data = self.get_audio_data(self.all_data.loc[idx, 'video_id'])\n",
    "            result = result | audio_data\n",
    "        return result\n",
    "\n",
    "    def get_frames_data(self, video_id):\n",
    "        frames = Frames(video_id)\n",
    "        video_info = frames.get_video_info()\n",
    "        frames_image = frames.get_frame_image_by_time()\n",
    "        frames_subtitle = frames.get_frame_subtitle_by_time()\n",
    "        return {\n",
    "            'images': frames_image,\n",
    "            'subtitles': frames_subtitle\n",
    "        }\n",
    "\n",
    "    def get_audio_data(self, video_id):\n",
    "        audio = Audio(video_id)\n",
    "        waveform, sample_rate = audio.load_audio()\n",
    "        return {\n",
    "            'audio_waveform': waveform,\n",
    "            'audio_sample_rate': sample_rate\n",
    "        }\n"
   ],
   "outputs": [],
   "execution_count": 1
  },
  {
   "metadata": {
    "ExecuteTime": {
     "end_time": "2024-10-30T07:45:37.258334Z",
     "start_time": "2024-10-30T07:45:37.227593Z"
    }
   },
   "cell_type": "code",
   "source": "dataset = OriginalMultimodalDataset()",
   "id": "58eac1b4521da885",
   "outputs": [],
   "execution_count": 2
  },
  {
   "metadata": {
    "ExecuteTime": {
     "end_time": "2024-10-30T07:45:38.404180Z",
     "start_time": "2024-10-30T07:45:37.258334Z"
    }
   },
   "cell_type": "code",
   "source": "dataset[0]",
   "id": "d67a72bb28514b7",
   "outputs": [
    {
     "data": {
      "text/plain": [
       "{'title': '新年快乐，皆得所愿！#你好2023',\n",
       " 'emotion_name': '盼望',\n",
       " 'emotion': 7,\n",
       " 'scene': [array([[[192,  63,  29],\n",
       "          [191,  62,  28],\n",
       "          [203,  58,  40],\n",
       "          ...,\n",
       "          [191,  59,  26],\n",
       "          [181,  63,  20],\n",
       "          [186,  68,  25]],\n",
       "  \n",
       "         [[193,  64,  30],\n",
       "          [190,  61,  27],\n",
       "          [204,  59,  41],\n",
       "          ...,\n",
       "          [191,  59,  26],\n",
       "          [180,  62,  19],\n",
       "          [174,  56,  13]],\n",
       "  \n",
       "         [[196,  59,  27],\n",
       "          [199,  62,  30],\n",
       "          [183,  65,  10],\n",
       "          ...,\n",
       "          [189,  61,  18],\n",
       "          [201,  57,  27],\n",
       "          [208,  64,  34]],\n",
       "  \n",
       "         ...,\n",
       "  \n",
       "         [[201,  62,  17],\n",
       "          [202,  63,  18],\n",
       "          [181,  68,  24],\n",
       "          ...,\n",
       "          [183,  64,  23],\n",
       "          [188,  60,  35],\n",
       "          [190,  62,  37]],\n",
       "  \n",
       "         [[201,  61,  39],\n",
       "          [197,  57,  35],\n",
       "          [206,  60,  32],\n",
       "          ...,\n",
       "          [200,  59,  35],\n",
       "          [197,  57,  31],\n",
       "          [198,  58,  32]],\n",
       "  \n",
       "         [[184,  44,  22],\n",
       "          [201,  61,  39],\n",
       "          [205,  59,  31],\n",
       "          ...,\n",
       "          [207,  66,  42],\n",
       "          [190,  50,  24],\n",
       "          [204,  64,  38]]], dtype=uint8),\n",
       "  array([[[198, 116,  44],\n",
       "          [255, 194, 122],\n",
       "          [255, 203, 129],\n",
       "          ...,\n",
       "          [222, 200, 110],\n",
       "          [255, 169, 100],\n",
       "          [176,  82,  13]],\n",
       "  \n",
       "         [[199, 117,  45],\n",
       "          [255, 183, 111],\n",
       "          [255, 206, 132],\n",
       "          ...,\n",
       "          [206, 184,  94],\n",
       "          [255, 162,  93],\n",
       "          [174,  80,  11]],\n",
       "  \n",
       "         [[209, 115,  48],\n",
       "          [255, 165,  98],\n",
       "          [219, 204, 117],\n",
       "          ...,\n",
       "          [181, 153,  62],\n",
       "          [253, 159,  90],\n",
       "          [182,  88,  19]],\n",
       "  \n",
       "         ...,\n",
       "  \n",
       "         [[208, 117,  33],\n",
       "          [255, 171,  87],\n",
       "          [220, 140,  45],\n",
       "          ...,\n",
       "          [188, 154,  71],\n",
       "          [255, 156,  96],\n",
       "          [186,  81,  21]],\n",
       "  \n",
       "         [[206, 117,  40],\n",
       "          [253, 164,  87],\n",
       "          [161, 162,  67],\n",
       "          ...,\n",
       "          [172, 186,  99],\n",
       "          [254, 160,  93],\n",
       "          [176,  82,  15]],\n",
       "  \n",
       "         [[205, 116,  39],\n",
       "          [255, 169,  92],\n",
       "          [177, 178,  83],\n",
       "          ...,\n",
       "          [200, 214, 127],\n",
       "          [255, 171, 104],\n",
       "          [173,  79,  12]]], dtype=uint8),\n",
       "  array([[[213, 141,  55],\n",
       "          [235, 163,  77],\n",
       "          [200, 208, 119],\n",
       "          ...,\n",
       "          [201, 164,  84],\n",
       "          [220, 133,  62],\n",
       "          [255, 179, 108]],\n",
       "  \n",
       "         [[233, 161,  75],\n",
       "          [204, 132,  46],\n",
       "          [174, 182,  93],\n",
       "          ...,\n",
       "          [179, 142,  62],\n",
       "          [255, 175, 104],\n",
       "          [255, 200, 129]],\n",
       "  \n",
       "         [[255, 197, 109],\n",
       "          [225, 155,  67],\n",
       "          [202, 143,  64],\n",
       "          ...,\n",
       "          [255, 169,  89],\n",
       "          [255, 221, 134],\n",
       "          [255, 213, 126]],\n",
       "  \n",
       "         ...,\n",
       "  \n",
       "         [[250, 205, 116],\n",
       "          [255, 223, 134],\n",
       "          [255, 209, 123],\n",
       "          ...,\n",
       "          [255, 165,  66],\n",
       "          [255, 215, 137],\n",
       "          [255, 209, 131]],\n",
       "  \n",
       "         [[255, 213, 114],\n",
       "          [255, 218, 119],\n",
       "          [255, 164,  81],\n",
       "          ...,\n",
       "          [175, 127,  49],\n",
       "          [249, 160,  76],\n",
       "          [255, 195, 111]],\n",
       "  \n",
       "         [[255, 212, 113],\n",
       "          [216, 170,  71],\n",
       "          [219, 124,  41],\n",
       "          ...,\n",
       "          [195, 147,  69],\n",
       "          [217, 128,  44],\n",
       "          [250, 161,  77]]], dtype=uint8),\n",
       "  array([[[255, 197, 106],\n",
       "          [214, 135,  44],\n",
       "          [189, 147,  78],\n",
       "          ...,\n",
       "          [222, 145,  60],\n",
       "          [255, 189,  95],\n",
       "          [255, 206, 112]],\n",
       "  \n",
       "         [[255, 210, 119],\n",
       "          [244, 165,  74],\n",
       "          [180, 138,  69],\n",
       "          ...,\n",
       "          [234, 157,  72],\n",
       "          [255, 199, 105],\n",
       "          [255, 203, 109]],\n",
       "  \n",
       "         [[255, 206, 129],\n",
       "          [255, 194, 117],\n",
       "          [230, 145,  49],\n",
       "          ...,\n",
       "          [255, 201, 107],\n",
       "          [255, 222, 125],\n",
       "          [255, 201, 104]],\n",
       "  \n",
       "         ...,\n",
       "  \n",
       "         [[255, 195, 104],\n",
       "          [255, 187,  96],\n",
       "          [251, 172,  81],\n",
       "          ...,\n",
       "          [255, 183, 102],\n",
       "          [255, 199, 117],\n",
       "          [255, 217, 135]],\n",
       "  \n",
       "         [[255, 214, 133],\n",
       "          [248, 207, 126],\n",
       "          [251, 184, 109],\n",
       "          ...,\n",
       "          [255, 192, 107],\n",
       "          [255, 205, 124],\n",
       "          [255, 219, 138]],\n",
       "  \n",
       "         [[255, 220, 139],\n",
       "          [248, 207, 126],\n",
       "          [255, 192, 117],\n",
       "          ...,\n",
       "          [239, 162,  77],\n",
       "          [239, 189, 108],\n",
       "          [255, 219, 138]]], dtype=uint8),\n",
       "  array([[[253, 184,  93],\n",
       "          [255, 200, 109],\n",
       "          [255, 193, 122],\n",
       "          ...,\n",
       "          [215, 188, 115],\n",
       "          [255, 205, 109],\n",
       "          [255, 193,  97]],\n",
       "  \n",
       "         [[255, 190,  99],\n",
       "          [255, 211, 120],\n",
       "          [250, 183, 112],\n",
       "          ...,\n",
       "          [187, 160,  87],\n",
       "          [232, 156,  60],\n",
       "          [227, 151,  55]],\n",
       "  \n",
       "         [[234, 157,  75],\n",
       "          [246, 169,  87],\n",
       "          [159, 159, 101],\n",
       "          ...,\n",
       "          [144, 179, 110],\n",
       "          [194, 138,  48],\n",
       "          [185, 129,  39]],\n",
       "  \n",
       "         ...,\n",
       "  \n",
       "         [[216, 204, 107],\n",
       "          [229, 217, 120],\n",
       "          [255, 179, 152],\n",
       "          ...,\n",
       "          [255, 209, 116],\n",
       "          [190, 203, 132],\n",
       "          [158, 171, 100]],\n",
       "  \n",
       "         [[166, 187, 121],\n",
       "          [196, 217, 151],\n",
       "          [245, 213, 130],\n",
       "          ...,\n",
       "          [184, 206, 131],\n",
       "          [218, 164,  72],\n",
       "          [197, 143,  51]],\n",
       "  \n",
       "         [[150, 171, 105],\n",
       "          [170, 191, 125],\n",
       "          [234, 202, 119],\n",
       "          ...,\n",
       "          [166, 188, 113],\n",
       "          [207, 153,  61],\n",
       "          [194, 140,  48]]], dtype=uint8),\n",
       "  array([[[238, 200, 125],\n",
       "          [244, 206, 131],\n",
       "          [255, 180, 124],\n",
       "          ...,\n",
       "          [255, 160, 136],\n",
       "          [232, 170, 102],\n",
       "          [255, 202, 134]],\n",
       "  \n",
       "         [[243, 205, 130],\n",
       "          [208, 170,  95],\n",
       "          [255, 170, 114],\n",
       "          ...,\n",
       "          [217, 121,  97],\n",
       "          [226, 164,  96],\n",
       "          [248, 186, 118]],\n",
       "  \n",
       "         [[255, 167, 119],\n",
       "          [244, 138,  90],\n",
       "          [255, 125,  94],\n",
       "          ...,\n",
       "          [245, 117, 115],\n",
       "          [255, 181, 146],\n",
       "          [255, 148, 113]],\n",
       "  \n",
       "         ...,\n",
       "  \n",
       "         [[201, 113, 104],\n",
       "          [211, 123, 114],\n",
       "          [211, 119, 123],\n",
       "          ...,\n",
       "          [254, 102, 114],\n",
       "          [251, 105, 101],\n",
       "          [255, 126, 122]],\n",
       "  \n",
       "         [[255, 105, 101],\n",
       "          [255,  95,  91],\n",
       "          [255, 100, 113],\n",
       "          ...,\n",
       "          [252,  99,  98],\n",
       "          [233, 105,  76],\n",
       "          [255, 166, 137]],\n",
       "  \n",
       "         [[255, 135, 131],\n",
       "          [255,  96,  92],\n",
       "          [255, 103, 116],\n",
       "          ...,\n",
       "          [255, 111, 110],\n",
       "          [255, 147, 118],\n",
       "          [255, 155, 126]]], dtype=uint8),\n",
       "  array([[[255,  99,  97],\n",
       "          [255,  95,  93],\n",
       "          [204, 119, 118],\n",
       "          ...,\n",
       "          [231, 100, 101],\n",
       "          [255, 102, 103],\n",
       "          [255, 103, 104]],\n",
       "  \n",
       "         [[255,  94,  92],\n",
       "          [255, 101,  99],\n",
       "          [204, 119, 118],\n",
       "          ...,\n",
       "          [228,  97,  98],\n",
       "          [255, 101, 102],\n",
       "          [255, 100, 101]],\n",
       "  \n",
       "         [[227, 104, 105],\n",
       "          [235, 112, 113],\n",
       "          [198, 118, 121],\n",
       "          ...,\n",
       "          [181, 115, 110],\n",
       "          [171, 144, 135],\n",
       "          [180, 153, 144]],\n",
       "  \n",
       "         ...,\n",
       "  \n",
       "         [[162, 228, 202],\n",
       "          [153, 219, 193],\n",
       "          [175, 159, 156],\n",
       "          ...,\n",
       "          [199, 172, 167],\n",
       "          [141, 230, 203],\n",
       "          [141, 230, 203]],\n",
       "  \n",
       "         [[169, 235, 209],\n",
       "          [162, 228, 202],\n",
       "          [189, 159, 157],\n",
       "          ...,\n",
       "          [222, 137, 136],\n",
       "          [213, 190, 172],\n",
       "          [225, 202, 184]],\n",
       "  \n",
       "         [[160, 226, 200],\n",
       "          [136, 202, 176],\n",
       "          [172, 142, 140],\n",
       "          ...,\n",
       "          [205, 120, 119],\n",
       "          [179, 156, 138],\n",
       "          [186, 163, 145]]], dtype=uint8),\n",
       "  array([[[181, 152, 147],\n",
       "          [251, 222, 217],\n",
       "          [238, 221, 253],\n",
       "          ...,\n",
       "          [250, 227, 253],\n",
       "          [207, 174, 161],\n",
       "          [201, 168, 155]],\n",
       "  \n",
       "         [[195, 166, 161],\n",
       "          [248, 219, 214],\n",
       "          [239, 222, 254],\n",
       "          ...,\n",
       "          [251, 228, 254],\n",
       "          [205, 172, 159],\n",
       "          [199, 166, 153]],\n",
       "  \n",
       "         [[192, 178, 173],\n",
       "          [235, 221, 216],\n",
       "          [235, 221, 252],\n",
       "          ...,\n",
       "          [251, 228, 251],\n",
       "          [215, 166, 154],\n",
       "          [190, 141, 129]],\n",
       "  \n",
       "         ...,\n",
       "  \n",
       "         [[206, 143, 149],\n",
       "          [255, 209, 215],\n",
       "          [233, 219, 248],\n",
       "          ...,\n",
       "          [235, 226, 244],\n",
       "          [255, 158, 157],\n",
       "          [205, 107, 106]],\n",
       "  \n",
       "         [[188, 146, 149],\n",
       "          [255, 214, 217],\n",
       "          [233, 219, 248],\n",
       "          ...,\n",
       "          [233, 226, 244],\n",
       "          [213, 160, 157],\n",
       "          [174, 121, 118]],\n",
       "  \n",
       "         [[189, 147, 150],\n",
       "          [252, 210, 213],\n",
       "          [235, 221, 250],\n",
       "          ...,\n",
       "          [228, 221, 239],\n",
       "          [212, 159, 156],\n",
       "          [201, 148, 145]]], dtype=uint8)],\n",
       " 'subtitle': [None,\n",
       "  '人客户端 你好 中国航天\\nS',\n",
       "  '你好\\nS',\n",
       "  '人客户端 你好 人客户端 你好',\n",
       "  '你好 中国航天 你好 中国航天',\n",
       "  '你好 中国航天',\n",
       "  '你好 中国航天',\n",
       "  '你好 中国航天'],\n",
       " 'audio_waveform': tensor([[-0.0023,  0.0048,  0.0038,  ..., -0.0124, -0.0090, -0.0047],\n",
       "         [-0.0031,  0.0007, -0.0003,  ..., -0.0082, -0.0111, -0.0167]]),\n",
       " 'audio_sample_rate': 44100}"
      ]
     },
     "execution_count": 3,
     "metadata": {},
     "output_type": "execute_result"
    }
   ],
   "execution_count": 3
  },
  {
   "metadata": {
    "ExecuteTime": {
     "end_time": "2024-10-30T07:45:39.957724Z",
     "start_time": "2024-10-30T07:45:38.404180Z"
    }
   },
   "cell_type": "code",
   "source": "scene = dataset[2]['scene']",
   "id": "17a9596d01fcc96e",
   "outputs": [],
   "execution_count": 4
  },
  {
   "metadata": {
    "ExecuteTime": {
     "end_time": "2024-10-30T07:45:39.963191Z",
     "start_time": "2024-10-30T07:45:39.957724Z"
    }
   },
   "cell_type": "code",
   "source": "type(scene)",
   "id": "826c30a0d313d76f",
   "outputs": [
    {
     "data": {
      "text/plain": [
       "list"
      ]
     },
     "execution_count": 5,
     "metadata": {},
     "output_type": "execute_result"
    }
   ],
   "execution_count": 5
  },
  {
   "metadata": {
    "ExecuteTime": {
     "end_time": "2024-10-30T07:45:39.969724Z",
     "start_time": "2024-10-30T07:45:39.963191Z"
    }
   },
   "cell_type": "code",
   "source": "len(scene)",
   "id": "67983b941937afcf",
   "outputs": [
    {
     "data": {
      "text/plain": [
       "18"
      ]
     },
     "execution_count": 6,
     "metadata": {},
     "output_type": "execute_result"
    }
   ],
   "execution_count": 6
  },
  {
   "metadata": {
    "ExecuteTime": {
     "end_time": "2024-10-30T07:45:41.097511Z",
     "start_time": "2024-10-30T07:45:39.969724Z"
    }
   },
   "cell_type": "code",
   "source": "len(dataset[0]['scene'])",
   "id": "b833fd04251e42e6",
   "outputs": [
    {
     "data": {
      "text/plain": [
       "8"
      ]
     },
     "execution_count": 7,
     "metadata": {},
     "output_type": "execute_result"
    }
   ],
   "execution_count": 7
  },
  {
   "metadata": {
    "ExecuteTime": {
     "end_time": "2024-10-30T07:45:41.102721Z",
     "start_time": "2024-10-30T07:45:41.097511Z"
    }
   },
   "cell_type": "code",
   "source": "type(scene[0])",
   "id": "e48c493cd5ca2146",
   "outputs": [
    {
     "data": {
      "text/plain": [
       "numpy.ndarray"
      ]
     },
     "execution_count": 8,
     "metadata": {},
     "output_type": "execute_result"
    }
   ],
   "execution_count": 8
  },
  {
   "metadata": {
    "ExecuteTime": {
     "end_time": "2024-10-30T07:45:41.115462Z",
     "start_time": "2024-10-30T07:45:41.103819Z"
    }
   },
   "cell_type": "code",
   "source": "scene[0].shape",
   "id": "1b40a2b586c1fb84",
   "outputs": [
    {
     "data": {
      "text/plain": [
       "(1024, 576, 3)"
      ]
     },
     "execution_count": 9,
     "metadata": {},
     "output_type": "execute_result"
    }
   ],
   "execution_count": 9
  },
  {
   "metadata": {
    "ExecuteTime": {
     "end_time": "2024-10-30T07:45:41.120830Z",
     "start_time": "2024-10-30T07:45:41.115462Z"
    }
   },
   "cell_type": "code",
   "source": "scene[0]",
   "id": "afa05143c68b480e",
   "outputs": [
    {
     "data": {
      "text/plain": [
       "array([[[195, 175,  91],\n",
       "        [195, 175,  91],\n",
       "        [195, 175,  91],\n",
       "        ...,\n",
       "        [178, 195, 226],\n",
       "        [178, 195, 226],\n",
       "        [178, 195, 226]],\n",
       "\n",
       "       [[195, 175,  91],\n",
       "        [195, 175,  91],\n",
       "        [195, 175,  91],\n",
       "        ...,\n",
       "        [178, 195, 226],\n",
       "        [178, 195, 226],\n",
       "        [178, 195, 226]],\n",
       "\n",
       "       [[198, 173,  90],\n",
       "        [198, 173,  90],\n",
       "        [198, 173,  90],\n",
       "        ...,\n",
       "        [178, 195, 226],\n",
       "        [178, 195, 226],\n",
       "        [178, 195, 226]],\n",
       "\n",
       "       ...,\n",
       "\n",
       "       [[213, 193, 207],\n",
       "        [211, 191, 205],\n",
       "        [211, 191, 205],\n",
       "        ...,\n",
       "        [217, 195, 209],\n",
       "        [217, 195, 209],\n",
       "        [218, 196, 210]],\n",
       "\n",
       "       [[218, 198, 212],\n",
       "        [218, 198, 212],\n",
       "        [218, 198, 212],\n",
       "        ...,\n",
       "        [203, 181, 195],\n",
       "        [203, 181, 195],\n",
       "        [203, 181, 195]],\n",
       "\n",
       "       [[221, 201, 215],\n",
       "        [221, 201, 215],\n",
       "        [222, 202, 216],\n",
       "        ...,\n",
       "        [190, 168, 182],\n",
       "        [191, 169, 183],\n",
       "        [191, 169, 183]]], dtype=uint8)"
      ]
     },
     "execution_count": 10,
     "metadata": {},
     "output_type": "execute_result"
    }
   ],
   "execution_count": 10
  },
  {
   "metadata": {
    "ExecuteTime": {
     "end_time": "2024-10-30T07:45:43.236586Z",
     "start_time": "2024-10-30T07:45:41.120830Z"
    }
   },
   "cell_type": "code",
   "source": "from embedding import Captioner",
   "id": "8cc910678201ac1b",
   "outputs": [],
   "execution_count": 11
  },
  {
   "metadata": {
    "ExecuteTime": {
     "end_time": "2024-10-30T07:45:48.314025Z",
     "start_time": "2024-10-30T07:45:43.236586Z"
    }
   },
   "cell_type": "code",
   "source": "captioner = Captioner()",
   "id": "5664b8c728c7ac8f",
   "outputs": [],
   "execution_count": 12
  },
  {
   "metadata": {
    "ExecuteTime": {
     "end_time": "2024-10-30T07:45:53.199861Z",
     "start_time": "2024-10-30T07:45:48.314025Z"
    }
   },
   "cell_type": "code",
   "source": "caption = captioner.generate(scene[0])",
   "id": "8bcc5d84038c5ad4",
   "outputs": [],
   "execution_count": 13
  },
  {
   "metadata": {
    "ExecuteTime": {
     "end_time": "2024-10-30T07:45:53.226214Z",
     "start_time": "2024-10-30T07:45:53.214359Z"
    }
   },
   "cell_type": "code",
   "source": "caption",
   "id": "9ed81e78f4e4aad3",
   "outputs": [
    {
     "data": {
      "text/plain": [
       "'a woman in a red suit sitting at a desk with a microphone'"
      ]
     },
     "execution_count": 14,
     "metadata": {},
     "output_type": "execute_result"
    }
   ],
   "execution_count": 14
  }
 ],
 "metadata": {
  "kernelspec": {
   "display_name": "Python 3",
   "language": "python",
   "name": "python3"
  },
  "language_info": {
   "codemirror_mode": {
    "name": "ipython",
    "version": 2
   },
   "file_extension": ".py",
   "mimetype": "text/x-python",
   "name": "python",
   "nbconvert_exporter": "python",
   "pygments_lexer": "ipython2",
   "version": "2.7.6"
  }
 },
 "nbformat": 4,
 "nbformat_minor": 5
}
