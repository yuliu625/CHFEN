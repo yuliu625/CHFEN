{
 "cells": [
  {
   "cell_type": "code",
   "id": "initial_id",
   "metadata": {
    "collapsed": true,
    "ExecuteTime": {
     "end_time": "2024-11-10T01:35:47.078692Z",
     "start_time": "2024-11-10T01:35:46.321800Z"
    }
   },
   "source": [
    "import pandas as pd\n",
    "from pathlib import Path\n",
    "from omegaconf import OmegaConf, DictConfig"
   ],
   "execution_count": 1,
   "outputs": []
  },
  {
   "metadata": {
    "ExecuteTime": {
     "end_time": "2024-11-10T01:35:48.130028Z",
     "start_time": "2024-11-10T01:35:47.078692Z"
    }
   },
   "cell_type": "code",
   "source": [
    "from moviepy.editor import VideoFileClip\n",
    "import pysrt\n",
    "from datetime import timedelta"
   ],
   "id": "90e521e1b2cba5cc",
   "execution_count": 2,
   "outputs": []
  },
  {
   "metadata": {
    "ExecuteTime": {
     "end_time": "2024-11-10T01:35:48.135114Z",
     "start_time": "2024-11-10T01:35:48.130028Z"
    }
   },
   "cell_type": "code",
   "source": [
    "def get_video_info(video_file):\n",
    "    \"\"\"获取视频时长和帧数\"\"\"\n",
    "    clip = VideoFileClip(video_file)\n",
    "    duration = clip.duration  # 视频时长（秒）\n",
    "    fps = clip.fps  # 帧率\n",
    "    resolution = clip.size\n",
    "    return duration, fps, resolution"
   ],
   "id": "f65daa4f1ddba434",
   "execution_count": 3,
   "outputs": []
  },
  {
   "metadata": {
    "ExecuteTime": {
     "end_time": "2024-11-10T01:35:48.143006Z",
     "start_time": "2024-11-10T01:35:48.135114Z"
    }
   },
   "cell_type": "code",
   "source": [
    "demo_data_path = OmegaConf.load('../configs/demo_data_path.yaml')\n",
    "\n",
    "video_path_str = demo_data_path['video_path_str']\n",
    "audio_path_str = demo_data_path['audio_path_str']\n",
    "subtitle_path_str = demo_data_path['subtitle_path_str']\n",
    "\n",
    "video_eg_path_str = demo_data_path['video_eg_path_str']\n",
    "subtitle_eg_path_str = demo_data_path['subtitle_eg_path_str']\n",
    "audio_eg_path_str = demo_data_path['audio_eg_path_str']"
   ],
   "id": "7b7246706a7b8308",
   "execution_count": 4,
   "outputs": []
  },
  {
   "metadata": {
    "ExecuteTime": {
     "end_time": "2024-11-10T01:36:08.927270Z",
     "start_time": "2024-11-10T01:36:08.916953Z"
    }
   },
   "cell_type": "code",
   "source": "print(demo_data_path)",
   "id": "5b523dab60e5040c",
   "execution_count": 8,
   "outputs": []
  },
  {
   "metadata": {
    "ExecuteTime": {
     "end_time": "2024-11-10T01:35:56.029328Z",
     "start_time": "2024-11-10T01:35:56.022185Z"
    }
   },
   "cell_type": "code",
   "source": "subtitle_eg_path_str",
   "id": "26ba5356474fcc62",
   "execution_count": 7,
   "outputs": []
  },
  {
   "metadata": {
    "ExecuteTime": {
     "end_time": "2024-11-10T01:35:53.340663Z",
     "start_time": "2024-11-10T01:35:48.149995Z"
    }
   },
   "cell_type": "code",
   "source": [
    "def print_fps(video_path_str):\n",
    "    video_path = Path(video_path_str)\n",
    "    for file in video_path.glob(\"*.mp4\"):\n",
    "        print(file.name)\n",
    "        print(get_video_info(str(file)))\n",
    "\n",
    "print_fps(video_path_str)"
   ],
   "id": "a57a17daa012d4f0",
   "execution_count": 6,
   "outputs": []
  },
  {
   "metadata": {},
   "cell_type": "code",
   "source": "subs = pysrt.open(subtitle_eg_path_str)",
   "id": "12003a316b2c1ecd",
   "execution_count": null,
   "outputs": []
  },
  {
   "metadata": {},
   "cell_type": "code",
   "source": [
    "for sub in subs:\n",
    "    print(sub)"
   ],
   "id": "ef839fc54a7a12eb",
   "execution_count": null,
   "outputs": []
  },
  {
   "metadata": {},
   "cell_type": "code",
   "source": [
    "for sub in subs:\n",
    "    print(sub)\n",
    "    print(sub.start)\n",
    "    print(sub.end)\n",
    "    print(sub.text)\n",
    "    break"
   ],
   "id": "31b8f82f8ef8c10",
   "execution_count": null,
   "outputs": []
  },
  {
   "metadata": {},
   "cell_type": "code",
   "source": [
    "def get_subtitle_at_time(srt_file, target_time):\n",
    "    subtitles = pysrt.open(srt_file)\n",
    "\n",
    "    for subtitle in subtitles:\n",
    "        # 检查字幕是否在指定时间点内\n",
    "        if subtitle.start <= target_time <= subtitle.end:\n",
    "            return subtitle.text\n",
    "    return None  # 如果没有找到对应的字幕"
   ],
   "id": "3eeeb54e7f05f14f",
   "execution_count": null,
   "outputs": []
  },
  {
   "metadata": {},
   "cell_type": "code",
   "source": "get_subtitle_at_time(subtitle_eg_path_str, pysrt.SubRipTime(seconds=5))",
   "id": "b7182c5402735732",
   "execution_count": null,
   "outputs": []
  },
  {
   "metadata": {},
   "cell_type": "code",
   "source": [
    "def extract_frames(video_path, timestamps):\n",
    "    # 加载视频文件\n",
    "    clip = VideoFileClip(video_path)\n",
    "    frames = []\n",
    "\n",
    "    # 遍历给定的时间戳\n",
    "    for timestamp in timestamps:\n",
    "        # 获取视频帧并转换为 numpy 数组\n",
    "        frame = clip.get_frame(timestamp)\n",
    "        frames.append(frame)\n",
    "\n",
    "    return frames"
   ],
   "id": "2383fabdfa09b528",
   "execution_count": null,
   "outputs": []
  },
  {
   "metadata": {},
   "cell_type": "code",
   "source": "eg_frames = extract_frames(video_eg_path_str, [1, 2, 3])",
   "id": "2bfd3eba5eb12c0e",
   "execution_count": null,
   "outputs": []
  },
  {
   "metadata": {},
   "cell_type": "code",
   "source": "eg_frames[0].shape",
   "id": "2d70d493ec16dea3",
   "execution_count": null,
   "outputs": []
  },
  {
   "metadata": {},
   "cell_type": "code",
   "source": [
    "def get_subtitles_at_times(srt_file, target_times):\n",
    "    subtitles = pysrt.open(srt_file)\n",
    "    results = []\n",
    "\n",
    "    for target_time in target_times:\n",
    "        found_subtitle = None\n",
    "        for subtitle in subtitles:\n",
    "            # 检查字幕是否在指定时间点内\n",
    "            if subtitle.start <= target_time <= subtitle.end:\n",
    "                found_subtitle = subtitle.text\n",
    "                break\n",
    "        results.append(found_subtitle)\n",
    "    return results\n"
   ],
   "id": "d9f8d53c6f09daa7",
   "execution_count": null,
   "outputs": []
  },
  {
   "metadata": {},
   "cell_type": "code",
   "source": "get_subtitles_at_times(subtitle_eg_path_str, [pysrt.SubRipTime(seconds=5), pysrt.SubRipTime(seconds=10)])",
   "id": "ccc4aaa9212e9b47",
   "execution_count": null,
   "outputs": []
  },
  {
   "metadata": {},
   "cell_type": "code",
   "source": "import torchaudio",
   "id": "ac493927d883e69",
   "execution_count": null,
   "outputs": []
  },
  {
   "metadata": {},
   "cell_type": "code",
   "source": "waveform, sample_rate = torchaudio.load(r\"D:\\dcmt\\dataset\\news_emotion\\audio\\7183343024657747258.wav\", format=\"wav\")",
   "id": "e95a4199b87cfac",
   "execution_count": null,
   "outputs": []
  },
  {
   "metadata": {},
   "cell_type": "code",
   "source": "sample_rate",
   "id": "b8d7cb1ecb78339f",
   "execution_count": null,
   "outputs": []
  },
  {
   "metadata": {},
   "cell_type": "code",
   "source": "waveform",
   "id": "a0315c37fe49ce5c",
   "execution_count": null,
   "outputs": []
  },
  {
   "metadata": {},
   "cell_type": "code",
   "source": "from embedding import AudioEncoder",
   "id": "dc333793b573b322",
   "execution_count": null,
   "outputs": []
  },
  {
   "metadata": {},
   "cell_type": "code",
   "source": "audio_encoder = AudioEncoder()",
   "id": "2d00559888eabd31",
   "execution_count": null,
   "outputs": []
  },
  {
   "metadata": {},
   "cell_type": "code",
   "source": "from audio import Audio",
   "id": "c666292ed9a87533",
   "execution_count": null,
   "outputs": []
  },
  {
   "metadata": {},
   "cell_type": "code",
   "source": "audio = Audio('7184773290962013477')",
   "id": "baa41714bd168677",
   "execution_count": null,
   "outputs": []
  },
  {
   "metadata": {},
   "cell_type": "code",
   "source": "audio.load_audio()",
   "id": "51d5a426ccdf5c7a",
   "execution_count": null,
   "outputs": []
  },
  {
   "metadata": {},
   "cell_type": "code",
   "source": "outputs = audio_encoder.encode(audio.load_audio())",
   "id": "99e2d8bb61c4ef32",
   "execution_count": null,
   "outputs": []
  },
  {
   "metadata": {},
   "cell_type": "code",
   "source": "outputs",
   "id": "dead7606a20d97",
   "execution_count": null,
   "outputs": []
  },
  {
   "metadata": {},
   "cell_type": "code",
   "source": "outputs.shape",
   "id": "260e8aa007db0135",
   "execution_count": null,
   "outputs": []
  },
  {
   "metadata": {},
   "cell_type": "code",
   "source": "outputs.last_hidden_state.shape",
   "id": "34dff0545019d242",
   "execution_count": null,
   "outputs": []
  },
  {
   "metadata": {},
   "cell_type": "code",
   "source": "outputs.last_hidden_state",
   "id": "d8e11fdca62dc2b2",
   "execution_count": null,
   "outputs": []
  },
  {
   "metadata": {},
   "cell_type": "code",
   "source": "outputs.extract_features.shape",
   "id": "cac32f6e93f0dd5a",
   "execution_count": null,
   "outputs": []
  },
  {
   "metadata": {},
   "cell_type": "code",
   "source": "from embedding import TextEncoder",
   "id": "e0e59938c7e48eb4",
   "execution_count": null,
   "outputs": []
  },
  {
   "metadata": {},
   "cell_type": "code",
   "source": "text_encoder = TextEncoder()",
   "id": "d112417e557640b1",
   "execution_count": null,
   "outputs": []
  },
  {
   "metadata": {},
   "cell_type": "code",
   "source": "text_outputs = text_encoder.encode(\"喂喂喂，你是谁？ How are you?今天是星期五\")",
   "id": "4815196cb958f706",
   "execution_count": null,
   "outputs": []
  },
  {
   "metadata": {},
   "cell_type": "code",
   "source": "text_outputs",
   "id": "a98455c553008bab",
   "execution_count": null,
   "outputs": []
  },
  {
   "metadata": {},
   "cell_type": "code",
   "source": "text_outputs.last_hidden_state.shape",
   "id": "680bb2fbdef73807",
   "execution_count": null,
   "outputs": []
  },
  {
   "metadata": {},
   "cell_type": "code",
   "source": "text_outputs.pooler_output.shape",
   "id": "275540f592945c77",
   "execution_count": null,
   "outputs": []
  }
 ],
 "metadata": {
  "kernelspec": {
   "display_name": "Python 3",
   "language": "python",
   "name": "python3"
  },
  "language_info": {
   "codemirror_mode": {
    "name": "ipython",
    "version": 2
   },
   "file_extension": ".py",
   "mimetype": "text/x-python",
   "name": "python",
   "nbconvert_exporter": "python",
   "pygments_lexer": "ipython2",
   "version": "2.7.6"
  }
 },
 "nbformat": 4,
 "nbformat_minor": 5
}
