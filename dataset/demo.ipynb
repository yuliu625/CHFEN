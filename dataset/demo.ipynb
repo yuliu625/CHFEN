{
 "cells": [
  {
   "cell_type": "code",
   "id": "initial_id",
   "metadata": {
    "collapsed": true,
    "ExecuteTime": {
     "end_time": "2024-11-10T01:35:47.078692Z",
     "start_time": "2024-11-10T01:35:46.321800Z"
    }
   },
   "source": [
    "import pandas as pd\n",
    "from pathlib import Path\n",
    "from omegaconf import OmegaConf, DictConfig"
   ],
   "outputs": [],
   "execution_count": 1
  },
  {
   "metadata": {
    "ExecuteTime": {
     "end_time": "2024-11-10T01:35:48.130028Z",
     "start_time": "2024-11-10T01:35:47.078692Z"
    }
   },
   "cell_type": "code",
   "source": [
    "from moviepy.editor import VideoFileClip\n",
    "import pysrt\n",
    "from datetime import timedelta"
   ],
   "id": "90e521e1b2cba5cc",
   "outputs": [],
   "execution_count": 2
  },
  {
   "metadata": {
    "ExecuteTime": {
     "end_time": "2024-11-10T01:35:48.135114Z",
     "start_time": "2024-11-10T01:35:48.130028Z"
    }
   },
   "cell_type": "code",
   "source": [
    "def get_video_info(video_file):\n",
    "    \"\"\"获取视频时长和帧数\"\"\"\n",
    "    clip = VideoFileClip(video_file)\n",
    "    duration = clip.duration  # 视频时长（秒）\n",
    "    fps = clip.fps  # 帧率\n",
    "    resolution = clip.size\n",
    "    return duration, fps, resolution"
   ],
   "id": "f65daa4f1ddba434",
   "outputs": [],
   "execution_count": 3
  },
  {
   "metadata": {
    "ExecuteTime": {
     "end_time": "2024-11-10T01:35:48.143006Z",
     "start_time": "2024-11-10T01:35:48.135114Z"
    }
   },
   "cell_type": "code",
   "source": [
    "demo_data_path = OmegaConf.load('../configs/demo_data_path.yaml')\n",
    "\n",
    "video_path_str = demo_data_path['video_path_str']\n",
    "audio_path_str = demo_data_path['audio_path_str']\n",
    "subtitle_path_str = demo_data_path['subtitle_path_str']\n",
    "\n",
    "video_eg_path_str = demo_data_path['video_eg_path_str']\n",
    "subtitle_eg_path_str = demo_data_path['subtitle_eg_path_str']\n",
    "audio_eg_path_str = demo_data_path['audio_eg_path_str']"
   ],
   "id": "7b7246706a7b8308",
   "outputs": [],
   "execution_count": 4
  },
  {
   "metadata": {
    "ExecuteTime": {
     "end_time": "2024-11-10T01:36:08.927270Z",
     "start_time": "2024-11-10T01:36:08.916953Z"
    }
   },
   "cell_type": "code",
   "source": "print(demo_data_path)",
   "id": "5b523dab60e5040c",
   "outputs": [
    {
     "data": {
      "text/plain": [
       "{'video_path_str': 'D:\\\\dcmt\\\\code\\\\python\\\\playground\\\\sample_videos\\\\renminribao', 'subtitle_path_str': 'D:\\\\dcmt\\\\code\\\\python\\\\playground\\\\sample_videos\\\\subtitle\\\\renminribao', 'audio_path_str': 'D:\\\\dcmt\\\\dataset\\\\news_emotion\\\\audio', 'video_eg_path_str': 'D:\\\\dcmt\\\\code\\\\python\\\\playground\\\\sample_videos\\\\renminribao\\\\7183343454993485115.mp4', 'subtitle_eg_path_str': 'D:\\\\dcmt\\\\code\\\\python\\\\playground\\\\sample_videos\\\\subtitle\\\\renminribao\\\\7183343454993485115.srt', 'audio_eg_path_str': 'D:\\\\dcmt\\\\dataset\\\\news_emotion\\\\audio\\\\7183343024657747258.wav'}"
      ]
     },
     "execution_count": 8,
     "metadata": {},
     "output_type": "execute_result"
    }
   ],
   "execution_count": 8
  },
  {
   "metadata": {
    "ExecuteTime": {
     "end_time": "2024-11-10T01:35:56.029328Z",
     "start_time": "2024-11-10T01:35:56.022185Z"
    }
   },
   "cell_type": "code",
   "source": "subtitle_eg_path_str",
   "id": "26ba5356474fcc62",
   "outputs": [
    {
     "data": {
      "text/plain": [
       "'D:\\\\dcmt\\\\code\\\\python\\\\playground\\\\sample_videos\\\\subtitle\\\\renminribao\\\\7183343454993485115.srt'"
      ]
     },
     "execution_count": 7,
     "metadata": {},
     "output_type": "execute_result"
    }
   ],
   "execution_count": 7
  },
  {
   "metadata": {
    "ExecuteTime": {
     "end_time": "2024-11-10T01:35:53.340663Z",
     "start_time": "2024-11-10T01:35:48.149995Z"
    }
   },
   "cell_type": "code",
   "source": [
    "def print_fps(video_path_str):\n",
    "    video_path = Path(video_path_str)\n",
    "    for file in video_path.glob(\"*.mp4\"):\n",
    "        print(file.name)\n",
    "        print(get_video_info(str(file)))\n",
    "\n",
    "print_fps(video_path_str)"
   ],
   "id": "a57a17daa012d4f0",
   "outputs": [
    {
     "name": "stdout",
     "output_type": "stream",
     "text": [
      "7183343454993485115.mp4\n",
      "(7.89, 25.0, [576, 1024])\n",
      "7185030947190967555.mp4\n",
      "(18.37, 25.0, [540, 960])\n",
      "7185400788041108796.mp4\n",
      "(17.13, 25.0, [576, 1024])\n",
      "7186896342118124855.mp4\n",
      "(20.65, 25.0, [576, 1024])\n",
      "7187017932747148581.mp4\n",
      "(7.57, 25.0, [576, 1024])\n",
      "7187268299481255224.mp4\n"
     ]
    },
    {
     "ename": "KeyboardInterrupt",
     "evalue": "",
     "output_type": "error",
     "traceback": [
      "\u001B[1;31m---------------------------------------------------------------------------\u001B[0m",
      "\u001B[1;31mKeyboardInterrupt\u001B[0m                         Traceback (most recent call last)",
      "Cell \u001B[1;32mIn[6], line 7\u001B[0m\n\u001B[0;32m      4\u001B[0m         \u001B[38;5;28mprint\u001B[39m(file\u001B[38;5;241m.\u001B[39mname)\n\u001B[0;32m      5\u001B[0m         \u001B[38;5;28mprint\u001B[39m(get_video_info(\u001B[38;5;28mstr\u001B[39m(file)))\n\u001B[1;32m----> 7\u001B[0m print_fps(video_path_str)\n",
      "Cell \u001B[1;32mIn[6], line 5\u001B[0m, in \u001B[0;36mprint_fps\u001B[1;34m(video_path_str)\u001B[0m\n\u001B[0;32m      3\u001B[0m \u001B[38;5;28;01mfor\u001B[39;00m file \u001B[38;5;129;01min\u001B[39;00m video_path\u001B[38;5;241m.\u001B[39mglob(\u001B[38;5;124m\"\u001B[39m\u001B[38;5;124m*.mp4\u001B[39m\u001B[38;5;124m\"\u001B[39m):\n\u001B[0;32m      4\u001B[0m     \u001B[38;5;28mprint\u001B[39m(file\u001B[38;5;241m.\u001B[39mname)\n\u001B[1;32m----> 5\u001B[0m     \u001B[38;5;28mprint\u001B[39m(get_video_info(\u001B[38;5;28mstr\u001B[39m(file)))\n",
      "Cell \u001B[1;32mIn[3], line 3\u001B[0m, in \u001B[0;36mget_video_info\u001B[1;34m(video_file)\u001B[0m\n\u001B[0;32m      1\u001B[0m \u001B[38;5;28;01mdef\u001B[39;00m \u001B[38;5;21mget_video_info\u001B[39m(video_file):\n\u001B[0;32m      2\u001B[0m \u001B[38;5;250m    \u001B[39m\u001B[38;5;124;03m\"\"\"获取视频时长和帧数\"\"\"\u001B[39;00m\n\u001B[1;32m----> 3\u001B[0m     clip \u001B[38;5;241m=\u001B[39m VideoFileClip(video_file)\n\u001B[0;32m      4\u001B[0m     duration \u001B[38;5;241m=\u001B[39m clip\u001B[38;5;241m.\u001B[39mduration  \u001B[38;5;66;03m# 视频时长（秒）\u001B[39;00m\n\u001B[0;32m      5\u001B[0m     fps \u001B[38;5;241m=\u001B[39m clip\u001B[38;5;241m.\u001B[39mfps  \u001B[38;5;66;03m# 帧率\u001B[39;00m\n",
      "File \u001B[1;32m~\\anaconda3\\envs\\dl_env\\Lib\\site-packages\\moviepy\\video\\io\\VideoFileClip.py:118\u001B[0m, in \u001B[0;36mVideoFileClip.__init__\u001B[1;34m(self, filename, has_mask, audio, audio_buffersize, target_resolution, resize_algorithm, audio_fps, audio_nbytes, verbose, fps_source)\u001B[0m\n\u001B[0;32m    115\u001B[0m \u001B[38;5;66;03m# Make a reader for the audio, if any.\u001B[39;00m\n\u001B[0;32m    116\u001B[0m \u001B[38;5;28;01mif\u001B[39;00m audio \u001B[38;5;129;01mand\u001B[39;00m \u001B[38;5;28mself\u001B[39m\u001B[38;5;241m.\u001B[39mreader\u001B[38;5;241m.\u001B[39minfos[\u001B[38;5;124m'\u001B[39m\u001B[38;5;124maudio_found\u001B[39m\u001B[38;5;124m'\u001B[39m]:\n\u001B[1;32m--> 118\u001B[0m     \u001B[38;5;28mself\u001B[39m\u001B[38;5;241m.\u001B[39maudio \u001B[38;5;241m=\u001B[39m AudioFileClip(filename,\n\u001B[0;32m    119\u001B[0m                                buffersize\u001B[38;5;241m=\u001B[39maudio_buffersize,\n\u001B[0;32m    120\u001B[0m                                fps\u001B[38;5;241m=\u001B[39maudio_fps,\n\u001B[0;32m    121\u001B[0m                                nbytes\u001B[38;5;241m=\u001B[39maudio_nbytes)\n",
      "File \u001B[1;32m~\\anaconda3\\envs\\dl_env\\Lib\\site-packages\\moviepy\\audio\\io\\AudioFileClip.py:70\u001B[0m, in \u001B[0;36mAudioFileClip.__init__\u001B[1;34m(self, filename, buffersize, nbytes, fps)\u001B[0m\n\u001B[0;32m     67\u001B[0m AudioClip\u001B[38;5;241m.\u001B[39m\u001B[38;5;21m__init__\u001B[39m(\u001B[38;5;28mself\u001B[39m)\n\u001B[0;32m     69\u001B[0m \u001B[38;5;28mself\u001B[39m\u001B[38;5;241m.\u001B[39mfilename \u001B[38;5;241m=\u001B[39m filename\n\u001B[1;32m---> 70\u001B[0m \u001B[38;5;28mself\u001B[39m\u001B[38;5;241m.\u001B[39mreader \u001B[38;5;241m=\u001B[39m FFMPEG_AudioReader(filename, fps\u001B[38;5;241m=\u001B[39mfps, nbytes\u001B[38;5;241m=\u001B[39mnbytes,\n\u001B[0;32m     71\u001B[0m                                  buffersize\u001B[38;5;241m=\u001B[39mbuffersize)\n\u001B[0;32m     72\u001B[0m \u001B[38;5;28mself\u001B[39m\u001B[38;5;241m.\u001B[39mfps \u001B[38;5;241m=\u001B[39m fps\n\u001B[0;32m     73\u001B[0m \u001B[38;5;28mself\u001B[39m\u001B[38;5;241m.\u001B[39mduration \u001B[38;5;241m=\u001B[39m \u001B[38;5;28mself\u001B[39m\u001B[38;5;241m.\u001B[39mreader\u001B[38;5;241m.\u001B[39mduration\n",
      "File \u001B[1;32m~\\anaconda3\\envs\\dl_env\\Lib\\site-packages\\moviepy\\audio\\io\\readers.py:51\u001B[0m, in \u001B[0;36mFFMPEG_AudioReader.__init__\u001B[1;34m(self, filename, buffersize, print_infos, fps, nbytes, nchannels)\u001B[0m\n\u001B[0;32m     49\u001B[0m \u001B[38;5;28mself\u001B[39m\u001B[38;5;241m.\u001B[39macodec \u001B[38;5;241m=\u001B[39m \u001B[38;5;124m'\u001B[39m\u001B[38;5;124mpcm_s\u001B[39m\u001B[38;5;132;01m%d\u001B[39;00m\u001B[38;5;124mle\u001B[39m\u001B[38;5;124m'\u001B[39m\u001B[38;5;241m%\u001B[39m(\u001B[38;5;241m8\u001B[39m\u001B[38;5;241m*\u001B[39mnbytes)\n\u001B[0;32m     50\u001B[0m \u001B[38;5;28mself\u001B[39m\u001B[38;5;241m.\u001B[39mnchannels \u001B[38;5;241m=\u001B[39m nchannels\n\u001B[1;32m---> 51\u001B[0m infos \u001B[38;5;241m=\u001B[39m ffmpeg_parse_infos(filename)\n\u001B[0;32m     52\u001B[0m \u001B[38;5;28mself\u001B[39m\u001B[38;5;241m.\u001B[39mduration \u001B[38;5;241m=\u001B[39m infos[\u001B[38;5;124m'\u001B[39m\u001B[38;5;124mduration\u001B[39m\u001B[38;5;124m'\u001B[39m]\n\u001B[0;32m     53\u001B[0m \u001B[38;5;28;01mif\u001B[39;00m \u001B[38;5;124m'\u001B[39m\u001B[38;5;124mvideo_duration\u001B[39m\u001B[38;5;124m'\u001B[39m \u001B[38;5;129;01min\u001B[39;00m infos:\n",
      "File \u001B[1;32m~\\anaconda3\\envs\\dl_env\\Lib\\site-packages\\moviepy\\video\\io\\ffmpeg_reader.py:257\u001B[0m, in \u001B[0;36mffmpeg_parse_infos\u001B[1;34m(filename, print_infos, check_duration, fps_source)\u001B[0m\n\u001B[0;32m    254\u001B[0m \u001B[38;5;28;01mif\u001B[39;00m os\u001B[38;5;241m.\u001B[39mname \u001B[38;5;241m==\u001B[39m \u001B[38;5;124m\"\u001B[39m\u001B[38;5;124mnt\u001B[39m\u001B[38;5;124m\"\u001B[39m:\n\u001B[0;32m    255\u001B[0m     popen_params[\u001B[38;5;124m\"\u001B[39m\u001B[38;5;124mcreationflags\u001B[39m\u001B[38;5;124m\"\u001B[39m] \u001B[38;5;241m=\u001B[39m \u001B[38;5;241m0x08000000\u001B[39m\n\u001B[1;32m--> 257\u001B[0m proc \u001B[38;5;241m=\u001B[39m sp\u001B[38;5;241m.\u001B[39mPopen(cmd, \u001B[38;5;241m*\u001B[39m\u001B[38;5;241m*\u001B[39mpopen_params)\n\u001B[0;32m    258\u001B[0m (output, error) \u001B[38;5;241m=\u001B[39m proc\u001B[38;5;241m.\u001B[39mcommunicate()\n\u001B[0;32m    259\u001B[0m infos \u001B[38;5;241m=\u001B[39m error\u001B[38;5;241m.\u001B[39mdecode(\u001B[38;5;124m'\u001B[39m\u001B[38;5;124mutf8\u001B[39m\u001B[38;5;124m'\u001B[39m)\n",
      "File \u001B[1;32m~\\anaconda3\\envs\\dl_env\\Lib\\subprocess.py:1026\u001B[0m, in \u001B[0;36mPopen.__init__\u001B[1;34m(self, args, bufsize, executable, stdin, stdout, stderr, preexec_fn, close_fds, shell, cwd, env, universal_newlines, startupinfo, creationflags, restore_signals, start_new_session, pass_fds, user, group, extra_groups, encoding, errors, text, umask, pipesize, process_group)\u001B[0m\n\u001B[0;32m   1022\u001B[0m         \u001B[38;5;28;01mif\u001B[39;00m \u001B[38;5;28mself\u001B[39m\u001B[38;5;241m.\u001B[39mtext_mode:\n\u001B[0;32m   1023\u001B[0m             \u001B[38;5;28mself\u001B[39m\u001B[38;5;241m.\u001B[39mstderr \u001B[38;5;241m=\u001B[39m io\u001B[38;5;241m.\u001B[39mTextIOWrapper(\u001B[38;5;28mself\u001B[39m\u001B[38;5;241m.\u001B[39mstderr,\n\u001B[0;32m   1024\u001B[0m                     encoding\u001B[38;5;241m=\u001B[39mencoding, errors\u001B[38;5;241m=\u001B[39merrors)\n\u001B[1;32m-> 1026\u001B[0m     \u001B[38;5;28mself\u001B[39m\u001B[38;5;241m.\u001B[39m_execute_child(args, executable, preexec_fn, close_fds,\n\u001B[0;32m   1027\u001B[0m                         pass_fds, cwd, env,\n\u001B[0;32m   1028\u001B[0m                         startupinfo, creationflags, shell,\n\u001B[0;32m   1029\u001B[0m                         p2cread, p2cwrite,\n\u001B[0;32m   1030\u001B[0m                         c2pread, c2pwrite,\n\u001B[0;32m   1031\u001B[0m                         errread, errwrite,\n\u001B[0;32m   1032\u001B[0m                         restore_signals,\n\u001B[0;32m   1033\u001B[0m                         gid, gids, uid, umask,\n\u001B[0;32m   1034\u001B[0m                         start_new_session, process_group)\n\u001B[0;32m   1035\u001B[0m \u001B[38;5;28;01mexcept\u001B[39;00m:\n\u001B[0;32m   1036\u001B[0m     \u001B[38;5;66;03m# Cleanup if the child failed starting.\u001B[39;00m\n\u001B[0;32m   1037\u001B[0m     \u001B[38;5;28;01mfor\u001B[39;00m f \u001B[38;5;129;01min\u001B[39;00m \u001B[38;5;28mfilter\u001B[39m(\u001B[38;5;28;01mNone\u001B[39;00m, (\u001B[38;5;28mself\u001B[39m\u001B[38;5;241m.\u001B[39mstdin, \u001B[38;5;28mself\u001B[39m\u001B[38;5;241m.\u001B[39mstdout, \u001B[38;5;28mself\u001B[39m\u001B[38;5;241m.\u001B[39mstderr)):\n",
      "File \u001B[1;32m~\\anaconda3\\envs\\dl_env\\Lib\\subprocess.py:1538\u001B[0m, in \u001B[0;36mPopen._execute_child\u001B[1;34m(self, args, executable, preexec_fn, close_fds, pass_fds, cwd, env, startupinfo, creationflags, shell, p2cread, p2cwrite, c2pread, c2pwrite, errread, errwrite, unused_restore_signals, unused_gid, unused_gids, unused_uid, unused_umask, unused_start_new_session, unused_process_group)\u001B[0m\n\u001B[0;32m   1536\u001B[0m \u001B[38;5;66;03m# Start the process\u001B[39;00m\n\u001B[0;32m   1537\u001B[0m \u001B[38;5;28;01mtry\u001B[39;00m:\n\u001B[1;32m-> 1538\u001B[0m     hp, ht, pid, tid \u001B[38;5;241m=\u001B[39m _winapi\u001B[38;5;241m.\u001B[39mCreateProcess(executable, args,\n\u001B[0;32m   1539\u001B[0m                              \u001B[38;5;66;03m# no special security\u001B[39;00m\n\u001B[0;32m   1540\u001B[0m                              \u001B[38;5;28;01mNone\u001B[39;00m, \u001B[38;5;28;01mNone\u001B[39;00m,\n\u001B[0;32m   1541\u001B[0m                              \u001B[38;5;28mint\u001B[39m(\u001B[38;5;129;01mnot\u001B[39;00m close_fds),\n\u001B[0;32m   1542\u001B[0m                              creationflags,\n\u001B[0;32m   1543\u001B[0m                              env,\n\u001B[0;32m   1544\u001B[0m                              cwd,\n\u001B[0;32m   1545\u001B[0m                              startupinfo)\n\u001B[0;32m   1546\u001B[0m \u001B[38;5;28;01mfinally\u001B[39;00m:\n\u001B[0;32m   1547\u001B[0m     \u001B[38;5;66;03m# Child is launched. Close the parent's copy of those pipe\u001B[39;00m\n\u001B[0;32m   1548\u001B[0m     \u001B[38;5;66;03m# handles that only the child should have open.  You need\u001B[39;00m\n\u001B[1;32m   (...)\u001B[0m\n\u001B[0;32m   1551\u001B[0m     \u001B[38;5;66;03m# pipe will not close when the child process exits and the\u001B[39;00m\n\u001B[0;32m   1552\u001B[0m     \u001B[38;5;66;03m# ReadFile will hang.\u001B[39;00m\n\u001B[0;32m   1553\u001B[0m     \u001B[38;5;28mself\u001B[39m\u001B[38;5;241m.\u001B[39m_close_pipe_fds(p2cread, p2cwrite,\n\u001B[0;32m   1554\u001B[0m                          c2pread, c2pwrite,\n\u001B[0;32m   1555\u001B[0m                          errread, errwrite)\n",
      "\u001B[1;31mKeyboardInterrupt\u001B[0m: "
     ]
    }
   ],
   "execution_count": 6
  },
  {
   "metadata": {},
   "cell_type": "code",
   "source": "subs = pysrt.open(subtitle_eg_path_str)",
   "id": "12003a316b2c1ecd",
   "outputs": [],
   "execution_count": null
  },
  {
   "metadata": {},
   "cell_type": "code",
   "source": [
    "for sub in subs:\n",
    "    print(sub)"
   ],
   "id": "ef839fc54a7a12eb",
   "outputs": [],
   "execution_count": null
  },
  {
   "metadata": {},
   "cell_type": "code",
   "source": [
    "for sub in subs:\n",
    "    print(sub)\n",
    "    print(sub.start)\n",
    "    print(sub.end)\n",
    "    print(sub.text)\n",
    "    break"
   ],
   "id": "31b8f82f8ef8c10",
   "outputs": [],
   "execution_count": null
  },
  {
   "metadata": {},
   "cell_type": "code",
   "source": [
    "def get_subtitle_at_time(srt_file, target_time):\n",
    "    subtitles = pysrt.open(srt_file)\n",
    "\n",
    "    for subtitle in subtitles:\n",
    "        # 检查字幕是否在指定时间点内\n",
    "        if subtitle.start <= target_time <= subtitle.end:\n",
    "            return subtitle.text\n",
    "    return None  # 如果没有找到对应的字幕"
   ],
   "id": "3eeeb54e7f05f14f",
   "outputs": [],
   "execution_count": null
  },
  {
   "metadata": {},
   "cell_type": "code",
   "source": "get_subtitle_at_time(subtitle_eg_path_str, pysrt.SubRipTime(seconds=5))",
   "id": "b7182c5402735732",
   "outputs": [],
   "execution_count": null
  },
  {
   "metadata": {},
   "cell_type": "code",
   "source": [
    "def extract_frames(video_path, timestamps):\n",
    "    # 加载视频文件\n",
    "    clip = VideoFileClip(video_path)\n",
    "    frames = []\n",
    "\n",
    "    # 遍历给定的时间戳\n",
    "    for timestamp in timestamps:\n",
    "        # 获取视频帧并转换为 numpy 数组\n",
    "        frame = clip.get_frame(timestamp)\n",
    "        frames.append(frame)\n",
    "\n",
    "    return frames"
   ],
   "id": "2383fabdfa09b528",
   "outputs": [],
   "execution_count": null
  },
  {
   "metadata": {},
   "cell_type": "code",
   "source": "eg_frames = extract_frames(video_eg_path_str, [1, 2, 3])",
   "id": "2bfd3eba5eb12c0e",
   "outputs": [],
   "execution_count": null
  },
  {
   "metadata": {},
   "cell_type": "code",
   "source": "eg_frames[0].shape",
   "id": "2d70d493ec16dea3",
   "outputs": [],
   "execution_count": null
  },
  {
   "metadata": {},
   "cell_type": "code",
   "source": [
    "def get_subtitles_at_times(srt_file, target_times):\n",
    "    subtitles = pysrt.open(srt_file)\n",
    "    results = []\n",
    "\n",
    "    for target_time in target_times:\n",
    "        found_subtitle = None\n",
    "        for subtitle in subtitles:\n",
    "            # 检查字幕是否在指定时间点内\n",
    "            if subtitle.start <= target_time <= subtitle.end:\n",
    "                found_subtitle = subtitle.text\n",
    "                break\n",
    "        results.append(found_subtitle)\n",
    "    return results\n"
   ],
   "id": "d9f8d53c6f09daa7",
   "outputs": [],
   "execution_count": null
  },
  {
   "metadata": {},
   "cell_type": "code",
   "source": "get_subtitles_at_times(subtitle_eg_path_str, [pysrt.SubRipTime(seconds=5), pysrt.SubRipTime(seconds=10)])",
   "id": "ccc4aaa9212e9b47",
   "outputs": [],
   "execution_count": null
  },
  {
   "metadata": {},
   "cell_type": "code",
   "source": "import torchaudio",
   "id": "ac493927d883e69",
   "outputs": [],
   "execution_count": null
  },
  {
   "metadata": {},
   "cell_type": "code",
   "source": "waveform, sample_rate = torchaudio.load(r\"D:\\dcmt\\dataset\\news_emotion\\audio\\7183343024657747258.wav\", format=\"wav\")",
   "id": "e95a4199b87cfac",
   "outputs": [],
   "execution_count": null
  },
  {
   "metadata": {},
   "cell_type": "code",
   "source": "sample_rate",
   "id": "b8d7cb1ecb78339f",
   "outputs": [],
   "execution_count": null
  },
  {
   "metadata": {},
   "cell_type": "code",
   "source": "waveform",
   "id": "a0315c37fe49ce5c",
   "outputs": [],
   "execution_count": null
  },
  {
   "metadata": {},
   "cell_type": "code",
   "source": "from embedding import AudioEncoder",
   "id": "dc333793b573b322",
   "outputs": [],
   "execution_count": null
  },
  {
   "metadata": {},
   "cell_type": "code",
   "source": "audio_encoder = AudioEncoder()",
   "id": "2d00559888eabd31",
   "outputs": [],
   "execution_count": null
  },
  {
   "metadata": {},
   "cell_type": "code",
   "source": "from audio import Audio",
   "id": "c666292ed9a87533",
   "outputs": [],
   "execution_count": null
  },
  {
   "metadata": {},
   "cell_type": "code",
   "source": "audio = Audio('7184773290962013477')",
   "id": "baa41714bd168677",
   "outputs": [],
   "execution_count": null
  },
  {
   "metadata": {},
   "cell_type": "code",
   "source": "audio.load_audio()",
   "id": "51d5a426ccdf5c7a",
   "outputs": [],
   "execution_count": null
  },
  {
   "metadata": {},
   "cell_type": "code",
   "source": "outputs = audio_encoder.encode(audio.load_audio())",
   "id": "99e2d8bb61c4ef32",
   "outputs": [],
   "execution_count": null
  },
  {
   "metadata": {},
   "cell_type": "code",
   "source": "outputs",
   "id": "dead7606a20d97",
   "outputs": [],
   "execution_count": null
  },
  {
   "metadata": {},
   "cell_type": "code",
   "source": "outputs.shape",
   "id": "260e8aa007db0135",
   "outputs": [],
   "execution_count": null
  },
  {
   "metadata": {},
   "cell_type": "code",
   "source": "outputs.last_hidden_state.shape",
   "id": "34dff0545019d242",
   "outputs": [],
   "execution_count": null
  },
  {
   "metadata": {},
   "cell_type": "code",
   "source": "outputs.last_hidden_state",
   "id": "d8e11fdca62dc2b2",
   "outputs": [],
   "execution_count": null
  },
  {
   "metadata": {},
   "cell_type": "code",
   "source": "outputs.extract_features.shape",
   "id": "cac32f6e93f0dd5a",
   "outputs": [],
   "execution_count": null
  },
  {
   "metadata": {},
   "cell_type": "code",
   "source": "from embedding import TextEncoder",
   "id": "e0e59938c7e48eb4",
   "outputs": [],
   "execution_count": null
  },
  {
   "metadata": {},
   "cell_type": "code",
   "source": "text_encoder = TextEncoder()",
   "id": "d112417e557640b1",
   "outputs": [],
   "execution_count": null
  },
  {
   "metadata": {},
   "cell_type": "code",
   "source": "text_outputs = text_encoder.encode(\"喂喂喂，你是谁？ How are you?今天是星期五\")",
   "id": "4815196cb958f706",
   "outputs": [],
   "execution_count": null
  },
  {
   "metadata": {},
   "cell_type": "code",
   "source": "text_outputs",
   "id": "a98455c553008bab",
   "outputs": [],
   "execution_count": null
  },
  {
   "metadata": {},
   "cell_type": "code",
   "source": "text_outputs.last_hidden_state.shape",
   "id": "680bb2fbdef73807",
   "outputs": [],
   "execution_count": null
  },
  {
   "metadata": {},
   "cell_type": "code",
   "source": "text_outputs.pooler_output.shape",
   "id": "275540f592945c77",
   "outputs": [],
   "execution_count": null
  }
 ],
 "metadata": {
  "kernelspec": {
   "display_name": "Python 3",
   "language": "python",
   "name": "python3"
  },
  "language_info": {
   "codemirror_mode": {
    "name": "ipython",
    "version": 2
   },
   "file_extension": ".py",
   "mimetype": "text/x-python",
   "name": "python",
   "nbconvert_exporter": "python",
   "pygments_lexer": "ipython2",
   "version": "2.7.6"
  }
 },
 "nbformat": 4,
 "nbformat_minor": 5
}
