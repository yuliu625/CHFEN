{
 "cells": [
  {
   "cell_type": "code",
   "id": "initial_id",
   "metadata": {
    "collapsed": true,
    "ExecuteTime": {
     "end_time": "2024-10-29T05:18:59.065090Z",
     "start_time": "2024-10-29T05:18:58.351358Z"
    }
   },
   "source": [
    "import pandas as pd\n",
    "from pathlib import Path\n",
    "from omegaconf import OmegaConf, DictConfig"
   ],
   "execution_count": 5,
   "outputs": []
  },
  {
   "metadata": {
    "ExecuteTime": {
     "end_time": "2024-10-26T05:24:35.432253Z",
     "start_time": "2024-10-26T05:24:34.021499Z"
    }
   },
   "cell_type": "code",
   "source": [
    "from moviepy.editor import VideoFileClip\n",
    "import pysrt\n",
    "from datetime import timedelta"
   ],
   "id": "90e521e1b2cba5cc",
   "execution_count": 2,
   "outputs": []
  },
  {
   "metadata": {
    "ExecuteTime": {
     "end_time": "2024-10-24T08:06:38.306445Z",
     "start_time": "2024-10-24T08:06:38.297476Z"
    }
   },
   "cell_type": "code",
   "source": [
    "def get_video_info(video_file):\n",
    "    \"\"\"获取视频时长和帧数\"\"\"\n",
    "    clip = VideoFileClip(video_file)\n",
    "    duration = clip.duration  # 视频时长（秒）\n",
    "    fps = clip.fps  # 帧率\n",
    "    resolution = clip.size\n",
    "    return duration, fps, resolution"
   ],
   "id": "f65daa4f1ddba434",
   "execution_count": 3,
   "outputs": []
  },
  {
   "metadata": {
    "ExecuteTime": {
     "end_time": "2024-10-29T05:19:27.371171Z",
     "start_time": "2024-10-29T05:19:27.353847Z"
    }
   },
   "cell_type": "code",
   "source": [
    "demo_data_path = OmegaConf.load('../configs/demo_data_path.yaml')\n",
    "\n",
    "video_path_str = demo_data_path['video_path_str']\n",
    "audio_path_str = demo_data_path['audio_path_str']\n",
    "subtitle_path_str = demo_data_path['subtitle_path_str']\n",
    "\n",
    "video_eg_path_str = demo_data_path['video_eg_path_str']\n",
    "subtitle_eg_path_str = demo_data_path['subtitle_eg_path_str']\n",
    "audio_eg_path_str = demo_data_path['audio_eg_path_str']"
   ],
   "id": "7b7246706a7b8308",
   "execution_count": 6,
   "outputs": []
  },
  {
   "metadata": {
    "ExecuteTime": {
     "end_time": "2024-10-26T05:28:05.162077Z",
     "start_time": "2024-10-26T05:28:05.155639Z"
    }
   },
   "cell_type": "code",
   "source": "subtitle_eg_path_str",
   "id": "26ba5356474fcc62",
   "execution_count": 5,
   "outputs": []
  },
  {
   "metadata": {
    "ExecuteTime": {
     "end_time": "2024-10-23T10:02:43.440515Z",
     "start_time": "2024-10-23T09:58:45.986719Z"
    }
   },
   "cell_type": "code",
   "source": [
    "def print_fps(video_path_str):\n",
    "    video_path = Path(video_path_str)\n",
    "    for file in video_path.glob(\"*.mp4\"):\n",
    "        print(file.name)\n",
    "        print(get_video_info(str(file)))\n",
    "\n",
    "print_fps(video_path_str)"
   ],
   "id": "a57a17daa012d4f0",
   "execution_count": 16,
   "outputs": []
  },
  {
   "metadata": {
    "ExecuteTime": {
     "end_time": "2024-10-23T11:44:58.461576Z",
     "start_time": "2024-10-23T11:44:58.455857Z"
    }
   },
   "cell_type": "code",
   "source": "subs = pysrt.open(subtitle_eg_path_str)",
   "id": "12003a316b2c1ecd",
   "execution_count": 21,
   "outputs": []
  },
  {
   "metadata": {},
   "cell_type": "code",
   "execution_count": null,
   "source": [
    "for sub in subs:\n",
    "    print(sub)"
   ],
   "id": "ef839fc54a7a12eb",
   "outputs": []
  },
  {
   "metadata": {
    "ExecuteTime": {
     "end_time": "2024-10-23T11:47:43.378291Z",
     "start_time": "2024-10-23T11:47:43.373191Z"
    }
   },
   "cell_type": "code",
   "source": [
    "for sub in subs:\n",
    "    print(sub)\n",
    "    print(sub.start)\n",
    "    print(sub.end)\n",
    "    print(sub.text)\n",
    "    break"
   ],
   "id": "31b8f82f8ef8c10",
   "execution_count": 25,
   "outputs": []
  },
  {
   "metadata": {
    "ExecuteTime": {
     "end_time": "2024-10-23T12:01:03.847803Z",
     "start_time": "2024-10-23T12:01:03.838747Z"
    }
   },
   "cell_type": "code",
   "source": [
    "def get_subtitle_at_time(srt_file, target_time):\n",
    "    subtitles = pysrt.open(srt_file)\n",
    "\n",
    "    for subtitle in subtitles:\n",
    "        # 检查字幕是否在指定时间点内\n",
    "        if subtitle.start <= target_time <= subtitle.end:\n",
    "            return subtitle.text\n",
    "    return None  # 如果没有找到对应的字幕"
   ],
   "id": "3eeeb54e7f05f14f",
   "execution_count": 31,
   "outputs": []
  },
  {
   "metadata": {
    "ExecuteTime": {
     "end_time": "2024-10-23T12:13:26.257983Z",
     "start_time": "2024-10-23T12:13:26.249755Z"
    }
   },
   "cell_type": "code",
   "source": "get_subtitle_at_time(subtitle_eg_path_str, pysrt.SubRipTime(seconds=5))",
   "id": "b7182c5402735732",
   "execution_count": 44,
   "outputs": []
  },
  {
   "metadata": {
    "ExecuteTime": {
     "end_time": "2024-10-24T06:33:10.935856Z",
     "start_time": "2024-10-24T06:33:10.922456Z"
    }
   },
   "cell_type": "code",
   "source": [
    "def extract_frames(video_path, timestamps):\n",
    "    # 加载视频文件\n",
    "    clip = VideoFileClip(video_path)\n",
    "    frames = []\n",
    "\n",
    "    # 遍历给定的时间戳\n",
    "    for timestamp in timestamps:\n",
    "        # 获取视频帧并转换为 numpy 数组\n",
    "        frame = clip.get_frame(timestamp)\n",
    "        frames.append(frame)\n",
    "\n",
    "    return frames"
   ],
   "id": "2383fabdfa09b528",
   "execution_count": 5,
   "outputs": []
  },
  {
   "metadata": {
    "ExecuteTime": {
     "end_time": "2024-10-24T06:34:28.853022Z",
     "start_time": "2024-10-24T06:34:27.892282Z"
    }
   },
   "cell_type": "code",
   "source": "eg_frames = extract_frames(video_eg_path_str, [1, 2, 3])",
   "id": "2bfd3eba5eb12c0e",
   "execution_count": 8,
   "outputs": []
  },
  {
   "metadata": {
    "ExecuteTime": {
     "end_time": "2024-10-24T06:34:49.876285Z",
     "start_time": "2024-10-24T06:34:49.866982Z"
    }
   },
   "cell_type": "code",
   "source": "eg_frames[0].shape",
   "id": "2d70d493ec16dea3",
   "execution_count": 10,
   "outputs": []
  },
  {
   "metadata": {
    "ExecuteTime": {
     "end_time": "2024-10-26T07:57:03.551022Z",
     "start_time": "2024-10-26T07:57:03.544795Z"
    }
   },
   "cell_type": "code",
   "source": [
    "def get_subtitles_at_times(srt_file, target_times):\n",
    "    subtitles = pysrt.open(srt_file)\n",
    "    results = []\n",
    "\n",
    "    for target_time in target_times:\n",
    "        found_subtitle = None\n",
    "        for subtitle in subtitles:\n",
    "            # 检查字幕是否在指定时间点内\n",
    "            if subtitle.start <= target_time <= subtitle.end:\n",
    "                found_subtitle = subtitle.text\n",
    "                break\n",
    "        results.append(found_subtitle)\n",
    "    return results\n"
   ],
   "id": "d9f8d53c6f09daa7",
   "execution_count": 11,
   "outputs": []
  },
  {
   "metadata": {
    "ExecuteTime": {
     "end_time": "2024-10-26T07:57:05.818068Z",
     "start_time": "2024-10-26T07:57:05.799699Z"
    }
   },
   "cell_type": "code",
   "source": "get_subtitles_at_times(subtitle_eg_path_str, [pysrt.SubRipTime(seconds=5), pysrt.SubRipTime(seconds=10)])",
   "id": "ccc4aaa9212e9b47",
   "execution_count": 12,
   "outputs": []
  },
  {
   "metadata": {
    "ExecuteTime": {
     "end_time": "2024-10-29T11:44:38.017320Z",
     "start_time": "2024-10-29T11:44:36.079097Z"
    }
   },
   "cell_type": "code",
   "source": "import torchaudio",
   "id": "ac493927d883e69",
   "execution_count": 1,
   "outputs": []
  },
  {
   "metadata": {
    "ExecuteTime": {
     "end_time": "2024-10-29T11:44:38.364525Z",
     "start_time": "2024-10-29T11:44:38.349441Z"
    }
   },
   "cell_type": "code",
   "source": "waveform, sample_rate = torchaudio.load(r\"D:\\dcmt\\dataset\\news_emotion\\audio\\7183343024657747258.wav\", format=\"wav\")",
   "id": "e95a4199b87cfac",
   "execution_count": 2,
   "outputs": []
  },
  {
   "metadata": {
    "ExecuteTime": {
     "end_time": "2024-10-29T11:35:54.870418Z",
     "start_time": "2024-10-29T11:35:54.846913Z"
    }
   },
   "cell_type": "code",
   "source": "sample_rate",
   "id": "b8d7cb1ecb78339f",
   "execution_count": 3,
   "outputs": []
  },
  {
   "metadata": {
    "ExecuteTime": {
     "end_time": "2024-10-29T11:44:40.924988Z",
     "start_time": "2024-10-29T11:44:40.919757Z"
    }
   },
   "cell_type": "code",
   "source": "waveform",
   "id": "a0315c37fe49ce5c",
   "execution_count": 3,
   "outputs": []
  },
  {
   "metadata": {
    "ExecuteTime": {
     "end_time": "2024-10-29T11:44:49.527306Z",
     "start_time": "2024-10-29T11:44:47.036794Z"
    }
   },
   "cell_type": "code",
   "source": "from embedding import AudioEncoder",
   "id": "dc333793b573b322",
   "execution_count": 4,
   "outputs": []
  },
  {
   "metadata": {
    "ExecuteTime": {
     "end_time": "2024-10-29T11:44:51.550846Z",
     "start_time": "2024-10-29T11:44:50.484288Z"
    }
   },
   "cell_type": "code",
   "source": "audio_encoder = AudioEncoder()",
   "id": "2d00559888eabd31",
   "execution_count": 5,
   "outputs": []
  },
  {
   "metadata": {
    "ExecuteTime": {
     "end_time": "2024-10-29T11:44:54.126005Z",
     "start_time": "2024-10-29T11:44:54.108791Z"
    }
   },
   "cell_type": "code",
   "source": "from audio import Audio",
   "id": "c666292ed9a87533",
   "execution_count": 6,
   "outputs": []
  },
  {
   "metadata": {
    "ExecuteTime": {
     "end_time": "2024-10-29T11:44:55.922177Z",
     "start_time": "2024-10-29T11:44:55.914274Z"
    }
   },
   "cell_type": "code",
   "source": "audio = Audio('7184773290962013477')",
   "id": "baa41714bd168677",
   "execution_count": 7,
   "outputs": []
  },
  {
   "metadata": {
    "ExecuteTime": {
     "end_time": "2024-10-29T11:44:57.881189Z",
     "start_time": "2024-10-29T11:44:57.870487Z"
    }
   },
   "cell_type": "code",
   "source": "audio.load_audio()",
   "id": "51d5a426ccdf5c7a",
   "execution_count": 8,
   "outputs": []
  },
  {
   "metadata": {
    "ExecuteTime": {
     "end_time": "2024-10-29T11:45:02.441122Z",
     "start_time": "2024-10-29T11:45:00.574439Z"
    }
   },
   "cell_type": "code",
   "source": "outputs = audio_encoder.encode(audio.load_audio())",
   "id": "99e2d8bb61c4ef32",
   "execution_count": 9,
   "outputs": []
  },
  {
   "metadata": {
    "ExecuteTime": {
     "end_time": "2024-10-29T11:45:03.658620Z",
     "start_time": "2024-10-29T11:45:03.651766Z"
    }
   },
   "cell_type": "code",
   "source": "outputs",
   "id": "dead7606a20d97",
   "execution_count": 10,
   "outputs": []
  },
  {
   "metadata": {
    "ExecuteTime": {
     "end_time": "2024-10-29T11:45:24.703081Z",
     "start_time": "2024-10-29T11:45:24.696701Z"
    }
   },
   "cell_type": "code",
   "source": "outputs.shape",
   "id": "260e8aa007db0135",
   "execution_count": 11,
   "outputs": []
  },
  {
   "metadata": {
    "ExecuteTime": {
     "end_time": "2024-10-29T11:36:38.629307Z",
     "start_time": "2024-10-29T11:36:38.619349Z"
    }
   },
   "cell_type": "code",
   "source": "outputs.last_hidden_state.shape",
   "id": "34dff0545019d242",
   "execution_count": 12,
   "outputs": []
  },
  {
   "metadata": {
    "ExecuteTime": {
     "end_time": "2024-10-29T11:36:41.268466Z",
     "start_time": "2024-10-29T11:36:41.246156Z"
    }
   },
   "cell_type": "code",
   "source": "outputs.last_hidden_state",
   "id": "d8e11fdca62dc2b2",
   "execution_count": 13,
   "outputs": []
  },
  {
   "metadata": {
    "ExecuteTime": {
     "end_time": "2024-10-29T11:36:56.430871Z",
     "start_time": "2024-10-29T11:36:56.416594Z"
    }
   },
   "cell_type": "code",
   "source": "outputs.extract_features.shape",
   "id": "cac32f6e93f0dd5a",
   "execution_count": 14,
   "outputs": []
  },
  {
   "metadata": {
    "ExecuteTime": {
     "end_time": "2024-10-30T05:40:25.316142Z",
     "start_time": "2024-10-30T05:40:20.688438Z"
    }
   },
   "cell_type": "code",
   "source": "from embedding import TextEncoder",
   "id": "e0e59938c7e48eb4",
   "execution_count": 1,
   "outputs": []
  },
  {
   "metadata": {
    "ExecuteTime": {
     "end_time": "2024-10-30T05:40:30.886471Z",
     "start_time": "2024-10-30T05:40:27.905258Z"
    }
   },
   "cell_type": "code",
   "source": "text_encoder = TextEncoder()",
   "id": "d112417e557640b1",
   "execution_count": 2,
   "outputs": []
  },
  {
   "metadata": {
    "ExecuteTime": {
     "end_time": "2024-10-30T06:39:43.223126Z",
     "start_time": "2024-10-30T06:39:43.035264Z"
    }
   },
   "cell_type": "code",
   "source": "text_outputs = text_encoder.encode(\"喂喂喂，你是谁？ How are you?今天是星期五\")",
   "id": "4815196cb958f706",
   "execution_count": 12,
   "outputs": []
  },
  {
   "metadata": {
    "ExecuteTime": {
     "end_time": "2024-10-30T06:39:45.109729Z",
     "start_time": "2024-10-30T06:39:45.096763Z"
    }
   },
   "cell_type": "code",
   "source": "text_outputs",
   "id": "a98455c553008bab",
   "execution_count": 13,
   "outputs": []
  },
  {
   "metadata": {
    "ExecuteTime": {
     "end_time": "2024-10-30T06:39:47.437417Z",
     "start_time": "2024-10-30T06:39:47.430102Z"
    }
   },
   "cell_type": "code",
   "source": "text_outputs.last_hidden_state.shape",
   "id": "680bb2fbdef73807",
   "execution_count": 14,
   "outputs": []
  },
  {
   "metadata": {
    "ExecuteTime": {
     "end_time": "2024-10-30T06:39:12.710592Z",
     "start_time": "2024-10-30T06:39:12.704670Z"
    }
   },
   "cell_type": "code",
   "source": "text_outputs.pooler_output.shape",
   "id": "275540f592945c77",
   "execution_count": 11,
   "outputs": []
  }
 ],
 "metadata": {
  "kernelspec": {
   "display_name": "Python 3",
   "language": "python",
   "name": "python3"
  },
  "language_info": {
   "codemirror_mode": {
    "name": "ipython",
    "version": 2
   },
   "file_extension": ".py",
   "mimetype": "text/x-python",
   "name": "python",
   "nbconvert_exporter": "python",
   "pygments_lexer": "ipython2",
   "version": "2.7.6"
  }
 },
 "nbformat": 4,
 "nbformat_minor": 5
}
