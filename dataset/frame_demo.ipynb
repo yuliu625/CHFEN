{
 "cells": [
  {
   "cell_type": "code",
   "id": "151a1c688edfee1f",
   "metadata": {
    "collapsed": true,
    "ExecuteTime": {
     "end_time": "2024-10-25T11:42:01.097554Z",
     "start_time": "2024-10-25T11:42:01.091641Z"
    }
   },
   "source": [
    "from moviepy.editor import VideoFileClip\n",
    "import pysrt\n",
    "\n",
    "from omegaconf import OmegaConf\n",
    "from pathlib import Path\n",
    "import math"
   ],
   "outputs": [],
   "execution_count": 13
  },
  {
   "metadata": {
    "ExecuteTime": {
     "end_time": "2024-10-25T11:41:50.373271Z",
     "start_time": "2024-10-25T11:41:50.365472Z"
    }
   },
   "cell_type": "code",
   "source": [
    "\n",
    "class Frames:\n",
    "    def __init__(self, video_id):\n",
    "        self.path_config = OmegaConf.load('../configs/path.yaml')\n",
    "        self.base_dir_path = Path(self.path_config['datasets']['base_dir'])\n",
    "\n",
    "        self.video_path, self.subtitle_path = self.get_video_and_subtitle_path(video_id)\n",
    "        self.video_clip = self.load_video(self.video_path)\n",
    "        # self.subtitle = self.load_subtitle(self.subtitle_path)\n",
    "\n",
    "        self.duration = math.floor(self.get_video_info()['duration'])\n",
    "        self.default_timestamps_list = [i for i in range(self.duration + 1)]\n",
    "\n",
    "    def get_video_and_subtitle_path(self, video_id):\n",
    "        video_path = self.base_dir_path / f\"{video_id}.mp4\"\n",
    "        subtitle_path = self.base_dir_path / f\"{video_id}.srt\"\n",
    "        return video_path, subtitle_path\n",
    "\n",
    "    def load_video(self, video_path):\n",
    "        return VideoFileClip(str(video_path))\n",
    "\n",
    "    def load_subtitle(self, subtitle_path):\n",
    "        return pysrt.open(subtitle_path)\n",
    "\n",
    "    def get_video_info(self):\n",
    "        return {\n",
    "            'duration': self.video_clip.duration,\n",
    "            'fps': self.video_clip.fps,\n",
    "            'resolution': self.video_clip.size\n",
    "        }\n",
    "\n",
    "    def get_frame_image_by_time(self, timestamps_list):\n",
    "        frames_image = []\n",
    "        for timestamp in self.default_timestamps_list:\n",
    "            frame = self.video_clip.get_frame(timestamp)\n",
    "            frames_image.append(frame)\n",
    "        \n",
    "        return frames_image\n",
    "\n",
    "    def get_frame_subtitle_by_time(self, timestamps_list):\n",
    "        pass"
   ],
   "id": "initial_id",
   "outputs": [],
   "execution_count": 11
  },
  {
   "metadata": {
    "ExecuteTime": {
     "end_time": "2024-10-25T11:42:04.926676Z",
     "start_time": "2024-10-25T11:42:04.129188Z"
    }
   },
   "cell_type": "code",
   "source": "frames = Frames('7183343454993485115')",
   "id": "9b3b9a9023b032ef",
   "outputs": [],
   "execution_count": 14
  },
  {
   "metadata": {
    "ExecuteTime": {
     "end_time": "2024-10-25T11:42:07.066675Z",
     "start_time": "2024-10-25T11:42:07.059751Z"
    }
   },
   "cell_type": "code",
   "source": "frames.get_video_info()",
   "id": "908dd4f14c5787d8",
   "outputs": [
    {
     "data": {
      "text/plain": [
       "{'duration': 7.89, 'fps': 25.0, 'resolution': [576, 1024]}"
      ]
     },
     "execution_count": 15,
     "metadata": {},
     "output_type": "execute_result"
    }
   ],
   "execution_count": 15
  },
  {
   "metadata": {
    "ExecuteTime": {
     "end_time": "2024-10-25T11:43:13.724225Z",
     "start_time": "2024-10-25T11:43:13.060623Z"
    }
   },
   "cell_type": "code",
   "source": "eg1 = frames.get_frame_image_by_time(None)",
   "id": "1ccb61c2d8903b60",
   "outputs": [],
   "execution_count": 17
  },
  {
   "metadata": {
    "ExecuteTime": {
     "end_time": "2024-10-25T11:50:03.583283Z",
     "start_time": "2024-10-25T11:50:03.578823Z"
    }
   },
   "cell_type": "code",
   "source": [
    "for frame in eg1:\n",
    "    print(frame.shape)"
   ],
   "id": "d41a852022c0a5c0",
   "outputs": [
    {
     "name": "stdout",
     "output_type": "stream",
     "text": [
      "(1024, 576, 3)\n",
      "(1024, 576, 3)\n",
      "(1024, 576, 3)\n",
      "(1024, 576, 3)\n",
      "(1024, 576, 3)\n",
      "(1024, 576, 3)\n",
      "(1024, 576, 3)\n",
      "(1024, 576, 3)\n"
     ]
    }
   ],
   "execution_count": 22
  },
  {
   "metadata": {
    "ExecuteTime": {
     "end_time": "2024-10-25T13:15:13.224229Z",
     "start_time": "2024-10-25T13:15:12.625773Z"
    }
   },
   "cell_type": "code",
   "source": "import pandas as pd",
   "id": "c5c30c32669dd348",
   "outputs": [],
   "execution_count": 23
  },
  {
   "metadata": {
    "ExecuteTime": {
     "end_time": "2024-10-25T13:28:36.190851Z",
     "start_time": "2024-10-25T13:28:36.173485Z"
    }
   },
   "cell_type": "code",
   "source": [
    "all_data = pd.read_json(r'D:\\dcmt\\dataset\\news_emotion\\all_data.json', dtype={'video_id': str})\n",
    "all_data"
   ],
   "id": "b085774f7f4cb716",
   "outputs": [
    {
     "data": {
      "text/plain": [
       "                 video_id                                              title  \\\n",
       "0     7183343454993485115                                  新年快乐，皆得所愿！#你好2023   \n",
       "1     7185030947190967555                           种菜、K歌、打太极，看航天员在轨生活的快乐瞬间。   \n",
       "2     7185400788041108796                        美导弹驱逐舰过航台湾海峡，东部战区：一切动向尽在掌握。   \n",
       "3     7186896342118124855            2022年，全国308名民警、179名辅警因公牺牲。中国人民警察节，致敬英雄！   \n",
       "4     7187017932747148581                       中国驻日本大使馆：即日起，暂停审发日本公民赴华普通签证。   \n",
       "...                   ...                                                ...   \n",
       "1359  7318346122936864009    31日晚7点，国家主席习近平将发表二〇二四年新年贺词！央视新闻，全程直播！ #2024新年贺词   \n",
       "1360  7318603668754844968  2024马上要来啦！愿您在新的一年，一针一线织就锦绣前程！当非遗刺绣遇见宋画千里江山，新年新...   \n",
       "1361  7318712480367250739  “我向大家致以新年的祝福！”跨年之夜，这个温暖而坚定的声音，给予我们前行的力量。#2024新年贺词   \n",
       "1362  7318714640379284755              习近平：悠久历史，博大文明，是我们的自信之基、力量之源。#2024新年贺词   \n",
       "1363  7318726174526541095        习近平：祝愿祖国繁荣昌盛、世界和平安宁！祝愿大家福暖四季、顺遂安康！#2024新年贺词   \n",
       "\n",
       "      duration emotion account_name  \n",
       "0         7.89      盼望         人民日报  \n",
       "1        18.37      喜悦         人民日报  \n",
       "2        17.13      生气         人民日报  \n",
       "3        20.65      难过         人民日报  \n",
       "4         7.57      喜悦         人民日报  \n",
       "...        ...     ...          ...  \n",
       "1359     17.96      喜悦         央视新闻  \n",
       "1360     26.05      喜悦         央视新闻  \n",
       "1361     21.80      喜悦         央视新闻  \n",
       "1362     13.89      信任         央视新闻  \n",
       "1363     18.69      信任         央视新闻  \n",
       "\n",
       "[1364 rows x 5 columns]"
      ],
      "text/html": [
       "<div>\n",
       "<style scoped>\n",
       "    .dataframe tbody tr th:only-of-type {\n",
       "        vertical-align: middle;\n",
       "    }\n",
       "\n",
       "    .dataframe tbody tr th {\n",
       "        vertical-align: top;\n",
       "    }\n",
       "\n",
       "    .dataframe thead th {\n",
       "        text-align: right;\n",
       "    }\n",
       "</style>\n",
       "<table border=\"1\" class=\"dataframe\">\n",
       "  <thead>\n",
       "    <tr style=\"text-align: right;\">\n",
       "      <th></th>\n",
       "      <th>video_id</th>\n",
       "      <th>title</th>\n",
       "      <th>duration</th>\n",
       "      <th>emotion</th>\n",
       "      <th>account_name</th>\n",
       "    </tr>\n",
       "  </thead>\n",
       "  <tbody>\n",
       "    <tr>\n",
       "      <th>0</th>\n",
       "      <td>7183343454993485115</td>\n",
       "      <td>新年快乐，皆得所愿！#你好2023</td>\n",
       "      <td>7.89</td>\n",
       "      <td>盼望</td>\n",
       "      <td>人民日报</td>\n",
       "    </tr>\n",
       "    <tr>\n",
       "      <th>1</th>\n",
       "      <td>7185030947190967555</td>\n",
       "      <td>种菜、K歌、打太极，看航天员在轨生活的快乐瞬间。</td>\n",
       "      <td>18.37</td>\n",
       "      <td>喜悦</td>\n",
       "      <td>人民日报</td>\n",
       "    </tr>\n",
       "    <tr>\n",
       "      <th>2</th>\n",
       "      <td>7185400788041108796</td>\n",
       "      <td>美导弹驱逐舰过航台湾海峡，东部战区：一切动向尽在掌握。</td>\n",
       "      <td>17.13</td>\n",
       "      <td>生气</td>\n",
       "      <td>人民日报</td>\n",
       "    </tr>\n",
       "    <tr>\n",
       "      <th>3</th>\n",
       "      <td>7186896342118124855</td>\n",
       "      <td>2022年，全国308名民警、179名辅警因公牺牲。中国人民警察节，致敬英雄！</td>\n",
       "      <td>20.65</td>\n",
       "      <td>难过</td>\n",
       "      <td>人民日报</td>\n",
       "    </tr>\n",
       "    <tr>\n",
       "      <th>4</th>\n",
       "      <td>7187017932747148581</td>\n",
       "      <td>中国驻日本大使馆：即日起，暂停审发日本公民赴华普通签证。</td>\n",
       "      <td>7.57</td>\n",
       "      <td>喜悦</td>\n",
       "      <td>人民日报</td>\n",
       "    </tr>\n",
       "    <tr>\n",
       "      <th>...</th>\n",
       "      <td>...</td>\n",
       "      <td>...</td>\n",
       "      <td>...</td>\n",
       "      <td>...</td>\n",
       "      <td>...</td>\n",
       "    </tr>\n",
       "    <tr>\n",
       "      <th>1359</th>\n",
       "      <td>7318346122936864009</td>\n",
       "      <td>31日晚7点，国家主席习近平将发表二〇二四年新年贺词！央视新闻，全程直播！ #2024新年贺词</td>\n",
       "      <td>17.96</td>\n",
       "      <td>喜悦</td>\n",
       "      <td>央视新闻</td>\n",
       "    </tr>\n",
       "    <tr>\n",
       "      <th>1360</th>\n",
       "      <td>7318603668754844968</td>\n",
       "      <td>2024马上要来啦！愿您在新的一年，一针一线织就锦绣前程！当非遗刺绣遇见宋画千里江山，新年新...</td>\n",
       "      <td>26.05</td>\n",
       "      <td>喜悦</td>\n",
       "      <td>央视新闻</td>\n",
       "    </tr>\n",
       "    <tr>\n",
       "      <th>1361</th>\n",
       "      <td>7318712480367250739</td>\n",
       "      <td>“我向大家致以新年的祝福！”跨年之夜，这个温暖而坚定的声音，给予我们前行的力量。#2024新年贺词</td>\n",
       "      <td>21.80</td>\n",
       "      <td>喜悦</td>\n",
       "      <td>央视新闻</td>\n",
       "    </tr>\n",
       "    <tr>\n",
       "      <th>1362</th>\n",
       "      <td>7318714640379284755</td>\n",
       "      <td>习近平：悠久历史，博大文明，是我们的自信之基、力量之源。#2024新年贺词</td>\n",
       "      <td>13.89</td>\n",
       "      <td>信任</td>\n",
       "      <td>央视新闻</td>\n",
       "    </tr>\n",
       "    <tr>\n",
       "      <th>1363</th>\n",
       "      <td>7318726174526541095</td>\n",
       "      <td>习近平：祝愿祖国繁荣昌盛、世界和平安宁！祝愿大家福暖四季、顺遂安康！#2024新年贺词</td>\n",
       "      <td>18.69</td>\n",
       "      <td>信任</td>\n",
       "      <td>央视新闻</td>\n",
       "    </tr>\n",
       "  </tbody>\n",
       "</table>\n",
       "<p>1364 rows × 5 columns</p>\n",
       "</div>"
      ]
     },
     "execution_count": 37,
     "metadata": {},
     "output_type": "execute_result"
    }
   ],
   "execution_count": 37
  }
 ],
 "metadata": {
  "kernelspec": {
   "display_name": "Python 3",
   "language": "python",
   "name": "python3"
  },
  "language_info": {
   "codemirror_mode": {
    "name": "ipython",
    "version": 2
   },
   "file_extension": ".py",
   "mimetype": "text/x-python",
   "name": "python",
   "nbconvert_exporter": "python",
   "pygments_lexer": "ipython2",
   "version": "2.7.6"
  }
 },
 "nbformat": 4,
 "nbformat_minor": 5
}
