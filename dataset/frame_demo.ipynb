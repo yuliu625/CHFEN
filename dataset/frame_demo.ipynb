{
 "cells": [
  {
   "cell_type": "code",
   "id": "151a1c688edfee1f",
   "metadata": {
    "collapsed": true,
    "ExecuteTime": {
     "end_time": "2024-10-26T10:54:38.069960Z",
     "start_time": "2024-10-26T10:54:36.670539Z"
    }
   },
   "source": [
    "from moviepy.editor import VideoFileClip\n",
    "import pysrt\n",
    "\n",
    "from omegaconf import OmegaConf\n",
    "from pathlib import Path\n",
    "import math"
   ],
   "execution_count": 1,
   "outputs": []
  },
  {
   "metadata": {
    "ExecuteTime": {
     "end_time": "2024-10-26T10:54:42.410926Z",
     "start_time": "2024-10-26T10:54:42.401337Z"
    }
   },
   "cell_type": "code",
   "source": [
    "class Frames:\n",
    "    \"\"\"\n",
    "    输入视频，\n",
    "    返回采样的已经匹配的图像和字幕。\n",
    "    \"\"\"\n",
    "    def __init__(self, video_id, path_config_path_str='../configs/path.yaml'):\n",
    "        # 导入配置。\n",
    "        self.path_config = OmegaConf.load(path_config_path_str)\n",
    "\n",
    "        # 加载视频、字幕的路径。\n",
    "        self.base_dir = Path(self.path_config['datasets']['base_dir'])\n",
    "        self.base_video_dir = Path(self.path_config['datasets']['base_video_dir'])\n",
    "        self.base_subtitle_dir = Path(self.path_config['datasets']['base_subtitle_dir'])\n",
    "\n",
    "        # 加载视频图像和字幕。\n",
    "        self.video_path, self.subtitle_path = self.get_video_and_subtitle_path(video_id)\n",
    "        self.video_clip = self.load_video(self.video_path)\n",
    "        self.subtitle = self.load_subtitle(self.subtitle_path)\n",
    "\n",
    "        # 进行采样的序列方法。\n",
    "        self.duration = math.floor(self.get_video_info()['duration'])\n",
    "        self.default_timestamps_list = [i for i in range(self.duration + 1)]\n",
    "\n",
    "    def get_video_and_subtitle_path(self, video_id):\n",
    "        \"\"\"得到视频和字幕的路径。按照dataset文件结构。\"\"\"\n",
    "        video_path = self.base_video_dir / f\"{video_id}.mp4\"\n",
    "        subtitle_path = self.base_subtitle_dir / f\"{video_id}.srt\"\n",
    "        return video_path, subtitle_path\n",
    "\n",
    "    def load_video(self, video_path):\n",
    "        \"\"\"使用moviepy处理图像。\"\"\"\n",
    "        return VideoFileClip(str(video_path))\n",
    "\n",
    "    def load_subtitle(self, subtitle_path):\n",
    "        \"\"\"使用pysrt处理字幕。\"\"\"\n",
    "        return pysrt.open(subtitle_path)\n",
    "\n",
    "    def get_video_info(self):\n",
    "        \"\"\"视频基本信息。\"\"\"\n",
    "        return {\n",
    "            'duration': self.video_clip.duration,\n",
    "            'fps': self.video_clip.fps,\n",
    "            'resolution': self.video_clip.size\n",
    "        }\n",
    "\n",
    "    def get_frame_image_by_time(self):\n",
    "        \"\"\"返回图像序列。类型为原始的numpy.array。\"\"\"\n",
    "        frames_image = []\n",
    "        for timestamp in self.default_timestamps_list:\n",
    "            frame = self.video_clip.get_frame(timestamp)\n",
    "            frames_image.append(frame)\n",
    "\n",
    "        return frames_image\n",
    "\n",
    "    def get_frame_subtitle_by_time(self):\n",
    "        \"\"\"返回帧的字幕。复杂度可优化。\"\"\"\n",
    "        frames_subtitle = []\n",
    "        for timestamp in self.default_timestamps_list:\n",
    "            timestamp = pysrt.SubRipTime(seconds=timestamp)\n",
    "\n",
    "            found_subtitle = None\n",
    "            for subtitle in self.subtitle:\n",
    "                if subtitle.start <= timestamp <= subtitle.end:\n",
    "                    found_subtitle = subtitle.text\n",
    "                    break\n",
    "            frames_subtitle.append(found_subtitle)\n",
    "\n",
    "        return frames_subtitle"
   ],
   "id": "initial_id",
   "execution_count": 2,
   "outputs": []
  },
  {
   "metadata": {
    "ExecuteTime": {
     "end_time": "2024-10-26T10:54:46.639271Z",
     "start_time": "2024-10-26T10:54:45.846203Z"
    }
   },
   "cell_type": "code",
   "source": "frames = Frames('7183343454993485115')",
   "id": "9b3b9a9023b032ef",
   "execution_count": 3,
   "outputs": []
  },
  {
   "metadata": {
    "ExecuteTime": {
     "end_time": "2024-10-26T10:54:48.482664Z",
     "start_time": "2024-10-26T10:54:48.475195Z"
    }
   },
   "cell_type": "code",
   "source": "frames.get_video_info()",
   "id": "908dd4f14c5787d8",
   "execution_count": 4,
   "outputs": []
  },
  {
   "metadata": {
    "ExecuteTime": {
     "end_time": "2024-10-26T10:54:55.040964Z",
     "start_time": "2024-10-26T10:54:54.623319Z"
    }
   },
   "cell_type": "code",
   "source": "eg1 = frames.get_frame_image_by_time()",
   "id": "1ccb61c2d8903b60",
   "execution_count": 5,
   "outputs": []
  },
  {
   "metadata": {
    "ExecuteTime": {
     "end_time": "2024-10-26T10:54:56.552555Z",
     "start_time": "2024-10-26T10:54:56.546086Z"
    }
   },
   "cell_type": "code",
   "source": [
    "# for frame in eg1:\n",
    "#     frame\n",
    "eg1"
   ],
   "id": "d41a852022c0a5c0",
   "execution_count": 6,
   "outputs": []
  },
  {
   "metadata": {
    "ExecuteTime": {
     "end_time": "2024-10-26T10:54:59.336376Z",
     "start_time": "2024-10-26T10:54:59.326338Z"
    }
   },
   "cell_type": "code",
   "source": [
    "eg2 = frames.get_frame_subtitle_by_time()\n",
    "eg2"
   ],
   "id": "89ba4cec47eafc94",
   "execution_count": 7,
   "outputs": []
  }
 ],
 "metadata": {
  "kernelspec": {
   "display_name": "Python 3",
   "language": "python",
   "name": "python3"
  },
  "language_info": {
   "codemirror_mode": {
    "name": "ipython",
    "version": 2
   },
   "file_extension": ".py",
   "mimetype": "text/x-python",
   "name": "python",
   "nbconvert_exporter": "python",
   "pygments_lexer": "ipython2",
   "version": "2.7.6"
  }
 },
 "nbformat": 4,
 "nbformat_minor": 5
}
