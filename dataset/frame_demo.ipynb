{
 "cells": [
  {
   "cell_type": "code",
   "id": "151a1c688edfee1f",
   "metadata": {
    "collapsed": true,
    "ExecuteTime": {
     "end_time": "2024-10-25T11:42:01.097554Z",
     "start_time": "2024-10-25T11:42:01.091641Z"
    }
   },
   "source": [
    "from moviepy.editor import VideoFileClip\n",
    "import pysrt\n",
    "\n",
    "from omegaconf import OmegaConf\n",
    "from pathlib import Path\n",
    "import math"
   ],
   "outputs": [],
   "execution_count": 13
  },
  {
   "metadata": {
    "ExecuteTime": {
     "end_time": "2024-10-25T11:41:50.373271Z",
     "start_time": "2024-10-25T11:41:50.365472Z"
    }
   },
   "cell_type": "code",
   "source": [
    "\n",
    "class Frames:\n",
    "    def __init__(self, video_id):\n",
    "        self.path_config = OmegaConf.load('../configs/path.yaml')\n",
    "        self.base_dir_path = Path(self.path_config['datasets']['base_dir'])\n",
    "\n",
    "        self.video_path, self.subtitle_path = self.get_video_and_subtitle_path(video_id)\n",
    "        self.video_clip = self.load_video(self.video_path)\n",
    "        # self.subtitle = self.load_subtitle(self.subtitle_path)\n",
    "\n",
    "        self.duration = math.floor(self.get_video_info()['duration'])\n",
    "        self.default_timestamps_list = [i for i in range(self.duration + 1)]\n",
    "\n",
    "    def get_video_and_subtitle_path(self, video_id):\n",
    "        video_path = self.base_dir_path / f\"{video_id}.mp4\"\n",
    "        subtitle_path = self.base_dir_path / f\"{video_id}.srt\"\n",
    "        return video_path, subtitle_path\n",
    "\n",
    "    def load_video(self, video_path):\n",
    "        return VideoFileClip(str(video_path))\n",
    "\n",
    "    def load_subtitle(self, subtitle_path):\n",
    "        return pysrt.open(subtitle_path)\n",
    "\n",
    "    def get_video_info(self):\n",
    "        return {\n",
    "            'duration': self.video_clip.duration,\n",
    "            'fps': self.video_clip.fps,\n",
    "            'resolution': self.video_clip.size\n",
    "        }\n",
    "\n",
    "    def get_frame_image_by_time(self, timestamps_list):\n",
    "        frames_image = []\n",
    "        for timestamp in self.default_timestamps_list:\n",
    "            frame = self.video_clip.get_frame(timestamp)\n",
    "            frames_image.append(frame)\n",
    "        \n",
    "        return frames_image\n",
    "\n",
    "    def get_frame_subtitle_by_time(self, timestamps_list):\n",
    "        pass"
   ],
   "id": "initial_id",
   "outputs": [],
   "execution_count": 11
  },
  {
   "metadata": {
    "ExecuteTime": {
     "end_time": "2024-10-25T11:42:04.926676Z",
     "start_time": "2024-10-25T11:42:04.129188Z"
    }
   },
   "cell_type": "code",
   "source": "frames = Frames('7183343454993485115')",
   "id": "9b3b9a9023b032ef",
   "outputs": [],
   "execution_count": 14
  },
  {
   "metadata": {
    "ExecuteTime": {
     "end_time": "2024-10-25T11:42:07.066675Z",
     "start_time": "2024-10-25T11:42:07.059751Z"
    }
   },
   "cell_type": "code",
   "source": "frames.get_video_info()",
   "id": "908dd4f14c5787d8",
   "outputs": [
    {
     "data": {
      "text/plain": [
       "{'duration': 7.89, 'fps': 25.0, 'resolution': [576, 1024]}"
      ]
     },
     "execution_count": 15,
     "metadata": {},
     "output_type": "execute_result"
    }
   ],
   "execution_count": 15
  },
  {
   "metadata": {
    "ExecuteTime": {
     "end_time": "2024-10-25T11:43:13.724225Z",
     "start_time": "2024-10-25T11:43:13.060623Z"
    }
   },
   "cell_type": "code",
   "source": "eg1 = frames.get_frame_image_by_time(None)",
   "id": "1ccb61c2d8903b60",
   "outputs": [],
   "execution_count": 17
  },
  {
   "metadata": {
    "ExecuteTime": {
     "end_time": "2024-10-25T11:50:03.583283Z",
     "start_time": "2024-10-25T11:50:03.578823Z"
    }
   },
   "cell_type": "code",
   "source": [
    "for frame in eg1:\n",
    "    print(frame.shape)"
   ],
   "id": "d41a852022c0a5c0",
   "outputs": [
    {
     "name": "stdout",
     "output_type": "stream",
     "text": [
      "(1024, 576, 3)\n",
      "(1024, 576, 3)\n",
      "(1024, 576, 3)\n",
      "(1024, 576, 3)\n",
      "(1024, 576, 3)\n",
      "(1024, 576, 3)\n",
      "(1024, 576, 3)\n",
      "(1024, 576, 3)\n"
     ]
    }
   ],
   "execution_count": 22
  }
 ],
 "metadata": {
  "kernelspec": {
   "display_name": "Python 3",
   "language": "python",
   "name": "python3"
  },
  "language_info": {
   "codemirror_mode": {
    "name": "ipython",
    "version": 2
   },
   "file_extension": ".py",
   "mimetype": "text/x-python",
   "name": "python",
   "nbconvert_exporter": "python",
   "pygments_lexer": "ipython2",
   "version": "2.7.6"
  }
 },
 "nbformat": 4,
 "nbformat_minor": 5
}
