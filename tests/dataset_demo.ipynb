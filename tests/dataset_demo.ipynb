{
 "cells": [
  {
   "cell_type": "code",
   "id": "initial_id",
   "metadata": {
    "collapsed": true,
    "ExecuteTime": {
     "end_time": "2024-11-10T01:20:03.928224Z",
     "start_time": "2024-11-10T01:19:57.034763Z"
    }
   },
   "source": "from dataset import MultimodalDataset, collate_fn",
   "execution_count": 1,
   "outputs": []
  },
  {
   "metadata": {
    "ExecuteTime": {
     "end_time": "2024-11-10T01:20:12.794275Z",
     "start_time": "2024-11-10T01:20:03.929733Z"
    }
   },
   "cell_type": "code",
   "source": "dataset = MultimodalDataset(path_config_path_str=r'D:\\dcmt\\code\\dl\\paper\\news_emotion\\configs\\path.yaml', encoder_config_path_str=r'D:\\dcmt\\code\\dl\\paper\\news_emotion\\config_experiments\\encoder.yaml')",
   "id": "e07e2b104f3fe92f",
   "execution_count": 2,
   "outputs": []
  },
  {
   "metadata": {
    "ExecuteTime": {
     "end_time": "2024-11-10T01:21:10.178063Z",
     "start_time": "2024-11-10T01:20:12.794275Z"
    }
   },
   "cell_type": "code",
   "source": "data = dataset[0]",
   "id": "b1873f6bb35e5b2f",
   "execution_count": 3,
   "outputs": []
  },
  {
   "metadata": {
    "ExecuteTime": {
     "end_time": "2024-11-10T01:21:10.210432Z",
     "start_time": "2024-11-10T01:21:10.178569Z"
    }
   },
   "cell_type": "code",
   "source": "data",
   "id": "eb759353de905a52",
   "execution_count": 4,
   "outputs": []
  },
  {
   "metadata": {
    "ExecuteTime": {
     "end_time": "2024-11-10T01:21:10.216806Z",
     "start_time": "2024-11-10T01:21:10.210432Z"
    }
   },
   "cell_type": "code",
   "source": "data['title_embedding'].shape",
   "id": "d27b88cbd665565e",
   "execution_count": 5,
   "outputs": []
  },
  {
   "metadata": {
    "ExecuteTime": {
     "end_time": "2024-11-10T01:21:10.221764Z",
     "start_time": "2024-11-10T01:21:10.216806Z"
    }
   },
   "cell_type": "code",
   "source": "data['scene_embeddings'].shape",
   "id": "33455f99736f2ac6",
   "execution_count": 6,
   "outputs": []
  },
  {
   "metadata": {
    "ExecuteTime": {
     "end_time": "2024-11-10T01:21:10.227938Z",
     "start_time": "2024-11-10T01:21:10.222303Z"
    }
   },
   "cell_type": "code",
   "source": "data['num_faces']",
   "id": "b9f1f7dcdaa6d7be",
   "execution_count": 7,
   "outputs": []
  },
  {
   "metadata": {
    "ExecuteTime": {
     "end_time": "2024-11-10T01:21:10.233704Z",
     "start_time": "2024-11-10T01:21:10.227938Z"
    }
   },
   "cell_type": "code",
   "source": "data['num_faces'].shape",
   "id": "b26fd6b9da24a322",
   "execution_count": 8,
   "outputs": []
  },
  {
   "metadata": {
    "ExecuteTime": {
     "end_time": "2024-11-10T01:21:10.240773Z",
     "start_time": "2024-11-10T01:21:10.233704Z"
    }
   },
   "cell_type": "code",
   "source": "data['face_embeddings'].shape",
   "id": "1283c417c9bad693",
   "execution_count": 9,
   "outputs": []
  },
  {
   "metadata": {
    "ExecuteTime": {
     "end_time": "2024-11-10T01:21:10.246116Z",
     "start_time": "2024-11-10T01:21:10.240773Z"
    }
   },
   "cell_type": "code",
   "source": "data['text_embeddings'].shape",
   "id": "2c279fe80e4c7ff9",
   "execution_count": 10,
   "outputs": []
  },
  {
   "metadata": {
    "ExecuteTime": {
     "end_time": "2024-11-10T01:21:10.250660Z",
     "start_time": "2024-11-10T01:21:10.246116Z"
    }
   },
   "cell_type": "code",
   "source": "# dataset[1]['text_embeddings'].shape",
   "id": "809015263673f3c1",
   "execution_count": 11,
   "outputs": []
  },
  {
   "metadata": {
    "ExecuteTime": {
     "end_time": "2024-11-10T01:21:10.256394Z",
     "start_time": "2024-11-10T01:21:10.250660Z"
    }
   },
   "cell_type": "code",
   "source": "from torch.utils.data import DataLoader",
   "id": "e03ed6b4ec6b01ca",
   "execution_count": 12,
   "outputs": []
  },
  {
   "metadata": {
    "ExecuteTime": {
     "end_time": "2024-11-10T01:21:10.261777Z",
     "start_time": "2024-11-10T01:21:10.256394Z"
    }
   },
   "cell_type": "code",
   "source": "dataloader = DataLoader(dataset, batch_size=1, collate_fn=collate_fn)",
   "id": "50f39c4ed949ec43",
   "execution_count": 13,
   "outputs": []
  },
  {
   "metadata": {
    "ExecuteTime": {
     "end_time": "2024-11-10T01:21:10.267397Z",
     "start_time": "2024-11-10T01:21:10.261777Z"
    }
   },
   "cell_type": "code",
   "source": "# next(iter(dataloader))",
   "id": "3d4c589e69553bda",
   "execution_count": 14,
   "outputs": []
  },
  {
   "metadata": {
    "ExecuteTime": {
     "end_time": "2024-11-10T01:24:11.482219Z",
     "start_time": "2024-11-10T01:21:10.267397Z"
    }
   },
   "cell_type": "code",
   "source": [
    "demo_batch = None\n",
    "for batch in dataloader:\n",
    "    demo_batch = batch\n",
    "    print(batch)\n",
    "    break"
   ],
   "id": "a961a1d8887eecff",
   "execution_count": 15,
   "outputs": []
  },
  {
   "metadata": {},
   "cell_type": "code",
   "source": "demo_batch",
   "id": "980eb383822001b3",
   "execution_count": null,
   "outputs": []
  },
  {
   "metadata": {
    "ExecuteTime": {
     "end_time": "2024-11-10T01:24:11.482818Z",
     "start_time": "2024-11-10T01:24:11.482818Z"
    }
   },
   "cell_type": "code",
   "source": "demo_batch['emotion'].shape",
   "id": "5e8b6ce6acbd25f7",
   "execution_count": null,
   "outputs": []
  },
  {
   "metadata": {},
   "cell_type": "code",
   "source": "demo_batch['title_embedding'].shape",
   "id": "e4f809318d1c1677",
   "execution_count": null,
   "outputs": []
  },
  {
   "metadata": {},
   "cell_type": "code",
   "source": "demo_batch['scene_embeddings'].shape",
   "id": "ced6742da44c78f8",
   "execution_count": null,
   "outputs": []
  },
  {
   "metadata": {},
   "cell_type": "code",
   "source": "demo_batch['num_faces'].shape",
   "id": "7e30edb7a421ac85",
   "execution_count": null,
   "outputs": []
  },
  {
   "metadata": {},
   "cell_type": "code",
   "source": "demo_batch['face_embeddings'].shape",
   "id": "34ceacf598960665",
   "execution_count": null,
   "outputs": []
  },
  {
   "metadata": {},
   "cell_type": "code",
   "source": "",
   "id": "c2b906a7eee06ec3",
   "execution_count": null,
   "outputs": []
  }
 ],
 "metadata": {
  "kernelspec": {
   "display_name": "Python 3",
   "language": "python",
   "name": "python3"
  },
  "language_info": {
   "codemirror_mode": {
    "name": "ipython",
    "version": 2
   },
   "file_extension": ".py",
   "mimetype": "text/x-python",
   "name": "python",
   "nbconvert_exporter": "python",
   "pygments_lexer": "ipython2",
   "version": "2.7.6"
  }
 },
 "nbformat": 4,
 "nbformat_minor": 5
}
